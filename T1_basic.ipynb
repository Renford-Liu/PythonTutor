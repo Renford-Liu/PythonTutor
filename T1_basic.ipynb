{
 "cells": [
  {
   "cell_type": "markdown",
   "metadata": {},
   "source": [
    "# Python 入门\n",
    "\n",
    "## 数值类型和计算\n",
    "\n",
    "Python是一门非常简单易懂的语言，绝大多数Python程序都非常符合人类语言的直觉。比如，如果需要计算两个数字相加，可以直接输入："
   ]
  },
  {
   "cell_type": "code",
   "execution_count": 1,
   "metadata": {},
   "outputs": [
    {
     "data": {
      "text/plain": [
       "7"
      ]
     },
     "execution_count": 1,
     "metadata": {},
     "output_type": "execute_result"
    }
   ],
   "source": [
    "3+4"
   ]
  },
  {
   "cell_type": "markdown",
   "metadata": {},
   "source": [
    "或者乘除法："
   ]
  },
  {
   "cell_type": "code",
   "execution_count": 2,
   "metadata": {},
   "outputs": [
    {
     "data": {
      "text/plain": [
       "7.5"
      ]
     },
     "execution_count": 2,
     "metadata": {},
     "output_type": "execute_result"
    }
   ],
   "source": [
    "30/4"
   ]
  },
  {
   "cell_type": "code",
   "execution_count": 3,
   "metadata": {},
   "outputs": [
    {
     "data": {
      "text/plain": [
       "12"
      ]
     },
     "execution_count": 3,
     "metadata": {},
     "output_type": "execute_result"
    }
   ],
   "source": [
    "3*4"
   ]
  },
  {
   "cell_type": "markdown",
   "metadata": {},
   "source": [
    "如果需要整除运算，可以使用两个斜杠："
   ]
  },
  {
   "cell_type": "code",
   "execution_count": 4,
   "metadata": {},
   "outputs": [
    {
     "data": {
      "text/plain": [
       "7"
      ]
     },
     "execution_count": 4,
     "metadata": {},
     "output_type": "execute_result"
    }
   ],
   "source": [
    "30//4"
   ]
  },
  {
   "cell_type": "markdown",
   "metadata": {},
   "source": [
    "以及取余运算："
   ]
  },
  {
   "cell_type": "code",
   "execution_count": 5,
   "metadata": {},
   "outputs": [
    {
     "data": {
      "text/plain": [
       "2"
      ]
     },
     "execution_count": 5,
     "metadata": {},
     "output_type": "execute_result"
    }
   ],
   "source": [
    "30%4"
   ]
  },
  {
   "cell_type": "markdown",
   "metadata": {},
   "source": [
    "与其他编程语言稍微有点区别的是幂运算，在Python中需要使用两个\\*号代表幂运算，比如如果需要计算$2^{10}$，可以："
   ]
  },
  {
   "cell_type": "code",
   "execution_count": 6,
   "metadata": {},
   "outputs": [
    {
     "data": {
      "text/plain": [
       "1024"
      ]
     },
     "execution_count": 6,
     "metadata": {},
     "output_type": "execute_result"
    }
   ],
   "source": [
    "2**10"
   ]
  },
  {
   "cell_type": "markdown",
   "metadata": {},
   "source": [
    "以上我们计算了很多整数的加减乘除，这种不带有小数点的整数，在Python中一般使用**int**整型表示，可以使用**type\\()**函数查看其类型："
   ]
  },
  {
   "cell_type": "code",
   "execution_count": 7,
   "metadata": {},
   "outputs": [
    {
     "data": {
      "text/plain": [
       "int"
      ]
     },
     "execution_count": 7,
     "metadata": {},
     "output_type": "execute_result"
    }
   ],
   "source": [
    "type(10)"
   ]
  },
  {
   "cell_type": "markdown",
   "metadata": {},
   "source": [
    "而带有小数点的称为浮点型**float**，其用法与int类似"
   ]
  },
  {
   "cell_type": "code",
   "execution_count": 8,
   "metadata": {},
   "outputs": [
    {
     "data": {
      "text/plain": [
       "float"
      ]
     },
     "execution_count": 8,
     "metadata": {},
     "output_type": "execute_result"
    }
   ],
   "source": [
    "type(3.5)"
   ]
  },
  {
   "cell_type": "markdown",
   "metadata": {},
   "source": [
    "浮点型也有以上所有的运算："
   ]
  },
  {
   "cell_type": "code",
   "execution_count": 9,
   "metadata": {},
   "outputs": [
    {
     "data": {
      "text/plain": [
       "5.5"
      ]
     },
     "execution_count": 9,
     "metadata": {},
     "output_type": "execute_result"
    }
   ],
   "source": [
    "3.5+2"
   ]
  },
  {
   "cell_type": "code",
   "execution_count": 10,
   "metadata": {},
   "outputs": [
    {
     "data": {
      "text/plain": [
       "2.5"
      ]
     },
     "execution_count": 10,
     "metadata": {},
     "output_type": "execute_result"
    }
   ],
   "source": [
    "3.5-1.0"
   ]
  },
  {
   "cell_type": "code",
   "execution_count": 11,
   "metadata": {},
   "outputs": [
    {
     "data": {
      "text/plain": [
       "12.25"
      ]
     },
     "execution_count": 11,
     "metadata": {},
     "output_type": "execute_result"
    }
   ],
   "source": [
    "3.5**2"
   ]
  },
  {
   "cell_type": "code",
   "execution_count": 12,
   "metadata": {},
   "outputs": [
    {
     "data": {
      "text/plain": [
       "1.8708286933869707"
      ]
     },
     "execution_count": 12,
     "metadata": {},
     "output_type": "execute_result"
    }
   ],
   "source": [
    "3.5**0.5"
   ]
  },
  {
   "cell_type": "markdown",
   "metadata": {},
   "source": [
    "## 逻辑运算与比较\n",
    "\n",
    "同理，我们可以使用大于号、小于号、大于等于、小于等于等符号判断大小："
   ]
  },
  {
   "cell_type": "code",
   "execution_count": 13,
   "metadata": {},
   "outputs": [
    {
     "data": {
      "text/plain": [
       "False"
      ]
     },
     "execution_count": 13,
     "metadata": {},
     "output_type": "execute_result"
    }
   ],
   "source": [
    "1>2"
   ]
  },
  {
   "cell_type": "code",
   "execution_count": 14,
   "metadata": {},
   "outputs": [
    {
     "data": {
      "text/plain": [
       "True"
      ]
     },
     "execution_count": 14,
     "metadata": {},
     "output_type": "execute_result"
    }
   ],
   "source": [
    "2>=2"
   ]
  },
  {
   "cell_type": "code",
   "execution_count": 15,
   "metadata": {},
   "outputs": [
    {
     "data": {
      "text/plain": [
       "True"
      ]
     },
     "execution_count": 15,
     "metadata": {},
     "output_type": "execute_result"
    }
   ],
   "source": [
    "3<5"
   ]
  },
  {
   "cell_type": "markdown",
   "metadata": {},
   "source": [
    "注意以上程序的结果返回的是**True**和**False**，这两个值在Python中分别代表逻辑真、逻辑假。逻辑真、假之间可以有与、或、非的运算："
   ]
  },
  {
   "cell_type": "code",
   "execution_count": 16,
   "metadata": {},
   "outputs": [
    {
     "data": {
      "text/plain": [
       "True"
      ]
     },
     "execution_count": 16,
     "metadata": {},
     "output_type": "execute_result"
    }
   ],
   "source": [
    "True and True"
   ]
  },
  {
   "cell_type": "code",
   "execution_count": 17,
   "metadata": {},
   "outputs": [
    {
     "data": {
      "text/plain": [
       "False"
      ]
     },
     "execution_count": 17,
     "metadata": {},
     "output_type": "execute_result"
    }
   ],
   "source": [
    "True and False"
   ]
  },
  {
   "cell_type": "code",
   "execution_count": 18,
   "metadata": {},
   "outputs": [
    {
     "data": {
      "text/plain": [
       "False"
      ]
     },
     "execution_count": 18,
     "metadata": {},
     "output_type": "execute_result"
    }
   ],
   "source": [
    "False and False"
   ]
  },
  {
   "cell_type": "code",
   "execution_count": 19,
   "metadata": {},
   "outputs": [
    {
     "data": {
      "text/plain": [
       "True"
      ]
     },
     "execution_count": 19,
     "metadata": {},
     "output_type": "execute_result"
    }
   ],
   "source": [
    "True or True"
   ]
  },
  {
   "cell_type": "code",
   "execution_count": 20,
   "metadata": {},
   "outputs": [
    {
     "data": {
      "text/plain": [
       "True"
      ]
     },
     "execution_count": 20,
     "metadata": {},
     "output_type": "execute_result"
    }
   ],
   "source": [
    "True or False"
   ]
  },
  {
   "cell_type": "code",
   "execution_count": 21,
   "metadata": {},
   "outputs": [
    {
     "data": {
      "text/plain": [
       "False"
      ]
     },
     "execution_count": 21,
     "metadata": {},
     "output_type": "execute_result"
    }
   ],
   "source": [
    "False or False"
   ]
  },
  {
   "cell_type": "code",
   "execution_count": 22,
   "metadata": {},
   "outputs": [
    {
     "data": {
      "text/plain": [
       "False"
      ]
     },
     "execution_count": 22,
     "metadata": {},
     "output_type": "execute_result"
    }
   ],
   "source": [
    "not True"
   ]
  },
  {
   "cell_type": "code",
   "execution_count": 23,
   "metadata": {},
   "outputs": [
    {
     "data": {
      "text/plain": [
       "True"
      ]
     },
     "execution_count": 23,
     "metadata": {},
     "output_type": "execute_result"
    }
   ],
   "source": [
    "not False"
   ]
  },
  {
   "cell_type": "code",
   "execution_count": 24,
   "metadata": {},
   "outputs": [
    {
     "data": {
      "text/plain": [
       "False"
      ]
     },
     "execution_count": 24,
     "metadata": {},
     "output_type": "execute_result"
    }
   ],
   "source": [
    "1>2 and 3>2"
   ]
  },
  {
   "cell_type": "markdown",
   "metadata": {},
   "source": [
    "此外，判断是否相等需要用两个连在一起的等号“==”，判断不相等可以使用“!=”，否则会报错："
   ]
  },
  {
   "cell_type": "code",
   "execution_count": 25,
   "metadata": {},
   "outputs": [
    {
     "data": {
      "text/plain": [
       "True"
      ]
     },
     "execution_count": 25,
     "metadata": {},
     "output_type": "execute_result"
    }
   ],
   "source": [
    "3==3"
   ]
  },
  {
   "cell_type": "code",
   "execution_count": 26,
   "metadata": {},
   "outputs": [
    {
     "data": {
      "text/plain": [
       "True"
      ]
     },
     "execution_count": 26,
     "metadata": {},
     "output_type": "execute_result"
    }
   ],
   "source": [
    "4!=3"
   ]
  },
  {
   "cell_type": "code",
   "execution_count": 27,
   "metadata": {},
   "outputs": [
    {
     "data": {
      "text/plain": [
       "False"
      ]
     },
     "execution_count": 27,
     "metadata": {},
     "output_type": "execute_result"
    }
   ],
   "source": [
    "3!=3"
   ]
  },
  {
   "cell_type": "markdown",
   "metadata": {},
   "source": [
    "## 运算优先级\n",
    "\n",
    "以上我们介绍了几种常见的运算，包括：\n",
    "\n",
    "* 算数运算\n",
    "    - +\n",
    "    - -\n",
    "    - \\*\n",
    "    - /\n",
    "    - //\n",
    "    - %\n",
    "    - \\*\\*\n",
    "* 比较运算\n",
    "    - ==\n",
    "    - !=\n",
    "    - \\<\n",
    "    - \\<=\n",
    "    - \\>\n",
    "    - \\>=\n",
    "* 逻辑运算\n",
    "    - and\n",
    "    - or\n",
    "    - not\n",
    "\n",
    "等等。这些运算符号并不是从左到右依次执行的，而是具有优先级顺序，比如：\n",
    "\n",
    "```python\n",
    "3+5*7-2\n",
    "```\n",
    "\n",
    "计算的结果应该是先将5\\*7计算出来得到35，再加3、减2，得到36，而不是3+5得到8,8\\*7=56，再减2得到54："
   ]
  },
  {
   "cell_type": "code",
   "execution_count": 28,
   "metadata": {},
   "outputs": [
    {
     "data": {
      "text/plain": [
       "36"
      ]
     },
     "execution_count": 28,
     "metadata": {},
     "output_type": "execute_result"
    }
   ],
   "source": [
    "3+5*7-2"
   ]
  },
  {
   "cell_type": "markdown",
   "metadata": {},
   "source": [
    "在Python中优先级从高到低依次为：\n",
    "\n",
    "1. \\*\\*\n",
    "2. +x、-x：正负号\n",
    "3. \\*、/、%\n",
    "4. +、-\n",
    "5. ==、!=、\\<、\\>、、\\<=、\\>=\n",
    "6. not\n",
    "7. and\n",
    "8. or\n",
    "\n",
    "因而，按照以上规则，我们上面的表达式：\n",
    "```python\n",
    "1>2 and 3>2\n",
    "```\n",
    "\n",
    "应该时先计算1>2的值得到False，再计算3>2的值得到True，最后计算False and True，得到False。\n",
    "\n",
    "此外，需要注意幂运算的等级比正负号要高，所以如果计算："
   ]
  },
  {
   "cell_type": "code",
   "execution_count": 29,
   "metadata": {},
   "outputs": [
    {
     "data": {
      "text/plain": [
       "-4"
      ]
     },
     "execution_count": 29,
     "metadata": {},
     "output_type": "execute_result"
    }
   ],
   "source": [
    "-2**2"
   ]
  },
  {
   "cell_type": "markdown",
   "metadata": {},
   "source": [
    "其计算顺序为先计算$2^2$，再取负，得到了-4。\n",
    "\n",
    "为了改变运算顺序，我们需要加小括号，比如如果我们想要计算$(-2)^2$，需要使用："
   ]
  },
  {
   "cell_type": "code",
   "execution_count": 30,
   "metadata": {},
   "outputs": [
    {
     "data": {
      "text/plain": [
       "4"
      ]
     },
     "execution_count": 30,
     "metadata": {},
     "output_type": "execute_result"
    }
   ],
   "source": [
    "(-2)**2"
   ]
  },
  {
   "cell_type": "markdown",
   "metadata": {},
   "source": [
    "才能得到正确的答案。\n",
    "\n",
    "当对运算优先级没有信心时，多加括号是非常好的习惯。"
   ]
  },
  {
   "cell_type": "markdown",
   "metadata": {},
   "source": [
    "## 变量\n",
    "\n",
    "**变量**（**variable**）是几乎所有编程语言都具有的特性。变量实质上时内存中的一个区域，其中存储着某一些值。在Python中，由于不用像C、Java一样显示地指明变量类型，因而用起来非常简单，直接使用等号“=”赋值即可。比如，我们可以使用以下语句将3这个值保存在变量x中，并在后面引用这个变量："
   ]
  },
  {
   "cell_type": "code",
   "execution_count": 31,
   "metadata": {},
   "outputs": [
    {
     "name": "stdout",
     "output_type": "stream",
     "text": [
      "3\n"
     ]
    }
   ],
   "source": [
    "x=3\n",
    "print(x)"
   ]
  },
  {
   "cell_type": "markdown",
   "metadata": {},
   "source": [
    "变量命名需要一些规则\n",
    "\n",
    "* 变量名不能以数字开头\n",
    "* 变量名不能是python的保留字符，比如is、in等\n",
    "* 不能含有+、-、\\*、空格等特殊字符，但是下划线允许\n",
    "* 变量名区分大小写\n",
    "\n",
    "其他字符都可以使用。由于Python3支持Unicode，因而即使中文也可以做变量名："
   ]
  },
  {
   "cell_type": "code",
   "execution_count": 32,
   "metadata": {},
   "outputs": [
    {
     "name": "stdout",
     "output_type": "stream",
     "text": [
      "3\n",
      "4\n",
      "4 - 5\n"
     ]
    }
   ],
   "source": [
    "三=3\n",
    "print(三)\n",
    "_a=4\n",
    "print(_a)\n",
    "_A=5\n",
    "print(_a,\"-\",_A)"
   ]
  },
  {
   "cell_type": "markdown",
   "metadata": {},
   "source": [
    "虽然Python的变量名要求相对比较宽松，但是还是有一些良好的习惯需要注意：\n",
    "\n",
    "* 尽量不要使用中文做变量名\n",
    "* 变量名要有意义，方便阅读\n",
    "* 尽量不要使用下划线开头，因为下划线开头的变量在Python中可能有特殊含义\n",
    "* 命名时，如果变量名包含几个单词，可以使用下划线区分，或者使用驼峰规则，每个单词第一个字母大写，比如：cat_weight，或者CatWeight\n",
    "\n",
    "除了简单的使用等号赋值之外，Python还有其他几个比较方便的赋值语句，比如：\n",
    "\n",
    "* +=：a+=b等价于a=a+b\n",
    "* -=：a-=b等价于a=a-b\n",
    "* \\*=：a\\*=b等价于a=a\\*b\n",
    "* /=：a/=b等价于a=a/b\n",
    "* \\*\\*=：a\\*\\*=b等价于a=a\\*\\*b\n",
    "* //=：a//=b等价于a=a//b\n",
    "* %=：a%=b等价于a=a%b"
   ]
  },
  {
   "cell_type": "code",
   "execution_count": 33,
   "metadata": {},
   "outputs": [
    {
     "name": "stdout",
     "output_type": "stream",
     "text": [
      "3\n",
      "2\n",
      "4\n",
      "2.0\n",
      "4.0\n"
     ]
    }
   ],
   "source": [
    "a=2\n",
    "a+=1\n",
    "print(a)\n",
    "a-=1\n",
    "print(a)\n",
    "a*=2\n",
    "print(a)\n",
    "a/=2\n",
    "print(a)\n",
    "a**=2\n",
    "print(a)"
   ]
  },
  {
   "cell_type": "markdown",
   "metadata": {},
   "source": [
    "## 字符串\n",
    "\n",
    "以上介绍了Python中的数值类型，而在程序设计中，另外一个基础的数据类型就是字符串。\n",
    "\n",
    "与其他大多数语言一样，Python中使用单引号“''”和双引号“\"\"”表示字符串，以上两种表示方法是等价的："
   ]
  },
  {
   "cell_type": "code",
   "execution_count": 34,
   "metadata": {},
   "outputs": [
    {
     "name": "stdout",
     "output_type": "stream",
     "text": [
      "Hello, Python!\n"
     ]
    }
   ],
   "source": [
    "a=\"Hello,\"\n",
    "b='Python!'\n",
    "print(a,b)\n"
   ]
  },
  {
   "cell_type": "markdown",
   "metadata": {},
   "source": [
    "为什么有两种表示字符串的方式呢？比如，如果我们需要“Let's go”这样一个字符串，如果使用单引号：\n",
    "```python\n",
    "'Let's go'\n",
    "```\n",
    "\n",
    "我们会发现Python自动将Let前后的单引号作为一个字符串，而其后面的“s go”含义不明，从而报错。为了解决这个问题，可以使用双引号：\n",
    "```python\n",
    "\"Let's go\"\n",
    "```\n",
    "就避免了这个问题。同理，如果字符串中存在双引号，就使用单引号声明字符串：\n",
    "```python\n",
    "'\"Python\" is a programming language.'\n",
    "```\n",
    "\n",
    "此外，也有的时候字符串中会同时出现单引号和双引号，此时我们可是使用转义字符解决这个问题，比如：\n",
    "```python\n",
    "\"\\\"Python\\\" is a programming language, let\\'s learn it.\"\n",
    "```\n",
    "\n",
    "在上面的代码中，我们使用“\\\"”代表了“\"”，使用“\\'”代表“'”，从而解决了单引号、双引号与字符串命名冲突的问题："
   ]
  },
  {
   "cell_type": "code",
   "execution_count": 35,
   "metadata": {},
   "outputs": [
    {
     "name": "stdout",
     "output_type": "stream",
     "text": [
      "\"Python\" is a programming language, let's learn it.\n"
     ]
    }
   ],
   "source": [
    "a=\"\\\"Python\\\" is a programming language, let\\'s learn it.\"\n",
    "print(a)"
   ]
  },
  {
   "cell_type": "markdown",
   "metadata": {},
   "source": [
    "除了单引号之外，还有一些其他的字符需要转义，比如，斜杠“\\”本身就需要转义，因为如果不对“\\”转义，解释器并不知道这个斜杠就是一个斜杠，还是与后面的字符链接起来的转义字符，比如："
   ]
  },
  {
   "cell_type": "code",
   "execution_count": 36,
   "metadata": {},
   "outputs": [
    {
     "name": "stdout",
     "output_type": "stream",
     "text": [
      "'' is a special character in Python\n"
     ]
    }
   ],
   "source": [
    "a=\"'\\' is a special character in Python\"\n",
    "print(a)"
   ]
  },
  {
   "cell_type": "markdown",
   "metadata": {},
   "source": [
    "可以发现，Python将斜杠和后面的单引号视为一体，因而没有将斜杠打印出来，正确的写法应该是："
   ]
  },
  {
   "cell_type": "code",
   "execution_count": 37,
   "metadata": {},
   "outputs": [
    {
     "name": "stdout",
     "output_type": "stream",
     "text": [
      "'\\' is a special character in Python\n"
     ]
    }
   ],
   "source": [
    "a=\"'\\\\' is a special character in Python\"\n",
    "print(a)"
   ]
  },
  {
   "cell_type": "markdown",
   "metadata": {},
   "source": []
  },
  {
   "cell_type": "code",
   "execution_count": 38,
   "metadata": {},
   "outputs": [
    {
     "name": "stdout",
     "output_type": "stream",
     "text": [
      "5 is a number8 \n"
     ]
    }
   ],
   "source": [
    "a=\"%d is a number%d \" % (5,8)\n",
    "print(a)"
   ]
  },
  {
   "cell_type": "markdown",
   "metadata": {},
   "source": [
    "## 输入和输出input print"
   ]
  }
 ],
 "metadata": {
  "kernelspec": {
   "display_name": "Python 3",
   "language": "python",
   "name": "python3"
  },
  "language_info": {
   "codemirror_mode": {
    "name": "ipython",
    "version": 3
   },
   "file_extension": ".py",
   "mimetype": "text/x-python",
   "name": "python",
   "nbconvert_exporter": "python",
   "pygments_lexer": "ipython3",
   "version": "3.6.7"
  }
 },
 "nbformat": 4,
 "nbformat_minor": 2
}
