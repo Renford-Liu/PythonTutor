{
 "cells": [
  {
   "cell_type": "markdown",
   "metadata": {},
   "source": [
    "# Python 入门\n",
    "\n",
    "## 数值类型和计算\n",
    "\n",
    "Python是一门非常简单易懂的语言，绝大多数Python程序都非常符合人类语言的直觉。比如，如果需要计算两个数字相加，可以直接输入："
   ]
  },
  {
   "cell_type": "code",
   "execution_count": 1,
   "metadata": {},
   "outputs": [
    {
     "data": {
      "text/plain": [
       "7"
      ]
     },
     "execution_count": 1,
     "metadata": {},
     "output_type": "execute_result"
    }
   ],
   "source": [
    "3+4"
   ]
  },
  {
   "cell_type": "markdown",
   "metadata": {},
   "source": [
    "或者乘除法："
   ]
  },
  {
   "cell_type": "code",
   "execution_count": 2,
   "metadata": {},
   "outputs": [
    {
     "data": {
      "text/plain": [
       "7.5"
      ]
     },
     "execution_count": 2,
     "metadata": {},
     "output_type": "execute_result"
    }
   ],
   "source": [
    "30/4"
   ]
  },
  {
   "cell_type": "code",
   "execution_count": 3,
   "metadata": {},
   "outputs": [
    {
     "data": {
      "text/plain": [
       "12"
      ]
     },
     "execution_count": 3,
     "metadata": {},
     "output_type": "execute_result"
    }
   ],
   "source": [
    "3*4"
   ]
  },
  {
   "cell_type": "markdown",
   "metadata": {},
   "source": [
    "如果需要整除运算，可以使用两个斜杠："
   ]
  },
  {
   "cell_type": "code",
   "execution_count": 4,
   "metadata": {},
   "outputs": [
    {
     "data": {
      "text/plain": [
       "7"
      ]
     },
     "execution_count": 4,
     "metadata": {},
     "output_type": "execute_result"
    }
   ],
   "source": [
    "30//4"
   ]
  },
  {
   "cell_type": "markdown",
   "metadata": {},
   "source": [
    "以及取余运算："
   ]
  },
  {
   "cell_type": "code",
   "execution_count": 5,
   "metadata": {},
   "outputs": [
    {
     "data": {
      "text/plain": [
       "2"
      ]
     },
     "execution_count": 5,
     "metadata": {},
     "output_type": "execute_result"
    }
   ],
   "source": [
    "30%4"
   ]
  },
  {
   "cell_type": "markdown",
   "metadata": {},
   "source": [
    "与其他编程语言稍微有点区别的是幂运算，在Python中需要使用两个\\*号代表幂运算，比如如果需要计算$2^{10}$，可以："
   ]
  },
  {
   "cell_type": "code",
   "execution_count": 6,
   "metadata": {},
   "outputs": [
    {
     "data": {
      "text/plain": [
       "1024"
      ]
     },
     "execution_count": 6,
     "metadata": {},
     "output_type": "execute_result"
    }
   ],
   "source": [
    "2**10"
   ]
  },
  {
   "cell_type": "markdown",
   "metadata": {},
   "source": [
    "以上我们计算了很多整数的加减乘除，这种不带有小数点的整数，在Python中一般使用**int**整型表示，可以使用**type\\()**函数查看其类型："
   ]
  },
  {
   "cell_type": "code",
   "execution_count": 7,
   "metadata": {},
   "outputs": [
    {
     "data": {
      "text/plain": [
       "int"
      ]
     },
     "execution_count": 7,
     "metadata": {},
     "output_type": "execute_result"
    }
   ],
   "source": [
    "type(10)"
   ]
  },
  {
   "cell_type": "markdown",
   "metadata": {},
   "source": [
    "而带有小数点的称为浮点型**float**，其用法与int类似"
   ]
  },
  {
   "cell_type": "code",
   "execution_count": 8,
   "metadata": {},
   "outputs": [
    {
     "data": {
      "text/plain": [
       "float"
      ]
     },
     "execution_count": 8,
     "metadata": {},
     "output_type": "execute_result"
    }
   ],
   "source": [
    "type(3.5)"
   ]
  },
  {
   "cell_type": "markdown",
   "metadata": {},
   "source": [
    "浮点型也有以上所有的运算："
   ]
  },
  {
   "cell_type": "code",
   "execution_count": 9,
   "metadata": {},
   "outputs": [
    {
     "data": {
      "text/plain": [
       "5.5"
      ]
     },
     "execution_count": 9,
     "metadata": {},
     "output_type": "execute_result"
    }
   ],
   "source": [
    "3.5+2"
   ]
  },
  {
   "cell_type": "code",
   "execution_count": 10,
   "metadata": {},
   "outputs": [
    {
     "data": {
      "text/plain": [
       "2.5"
      ]
     },
     "execution_count": 10,
     "metadata": {},
     "output_type": "execute_result"
    }
   ],
   "source": [
    "3.5-1.0"
   ]
  },
  {
   "cell_type": "code",
   "execution_count": 11,
   "metadata": {},
   "outputs": [
    {
     "data": {
      "text/plain": [
       "12.25"
      ]
     },
     "execution_count": 11,
     "metadata": {},
     "output_type": "execute_result"
    }
   ],
   "source": [
    "3.5**2"
   ]
  },
  {
   "cell_type": "code",
   "execution_count": 12,
   "metadata": {},
   "outputs": [
    {
     "data": {
      "text/plain": [
       "1.8708286933869707"
      ]
     },
     "execution_count": 12,
     "metadata": {},
     "output_type": "execute_result"
    }
   ],
   "source": [
    "3.5**0.5"
   ]
  },
  {
   "cell_type": "markdown",
   "metadata": {},
   "source": [
    "## 逻辑运算与比较\n",
    "\n",
    "同理，我们可以使用大于号、小于号、大于等于、小于等于等符号判断大小："
   ]
  },
  {
   "cell_type": "code",
   "execution_count": 13,
   "metadata": {},
   "outputs": [
    {
     "data": {
      "text/plain": [
       "False"
      ]
     },
     "execution_count": 13,
     "metadata": {},
     "output_type": "execute_result"
    }
   ],
   "source": [
    "1>2"
   ]
  },
  {
   "cell_type": "code",
   "execution_count": 14,
   "metadata": {},
   "outputs": [
    {
     "data": {
      "text/plain": [
       "True"
      ]
     },
     "execution_count": 14,
     "metadata": {},
     "output_type": "execute_result"
    }
   ],
   "source": [
    "2>=2"
   ]
  },
  {
   "cell_type": "code",
   "execution_count": 15,
   "metadata": {},
   "outputs": [
    {
     "data": {
      "text/plain": [
       "True"
      ]
     },
     "execution_count": 15,
     "metadata": {},
     "output_type": "execute_result"
    }
   ],
   "source": [
    "3<5"
   ]
  },
  {
   "cell_type": "markdown",
   "metadata": {},
   "source": [
    "注意以上程序的结果返回的是**True**和**False**，这两个值在Python中分别代表逻辑真、逻辑假。逻辑真、假之间可以有与、或、非的运算："
   ]
  },
  {
   "cell_type": "code",
   "execution_count": 16,
   "metadata": {},
   "outputs": [
    {
     "data": {
      "text/plain": [
       "True"
      ]
     },
     "execution_count": 16,
     "metadata": {},
     "output_type": "execute_result"
    }
   ],
   "source": [
    "True and True"
   ]
  },
  {
   "cell_type": "code",
   "execution_count": 17,
   "metadata": {},
   "outputs": [
    {
     "data": {
      "text/plain": [
       "False"
      ]
     },
     "execution_count": 17,
     "metadata": {},
     "output_type": "execute_result"
    }
   ],
   "source": [
    "True and False"
   ]
  },
  {
   "cell_type": "code",
   "execution_count": 18,
   "metadata": {},
   "outputs": [
    {
     "data": {
      "text/plain": [
       "False"
      ]
     },
     "execution_count": 18,
     "metadata": {},
     "output_type": "execute_result"
    }
   ],
   "source": [
    "False and False"
   ]
  },
  {
   "cell_type": "code",
   "execution_count": 19,
   "metadata": {},
   "outputs": [
    {
     "data": {
      "text/plain": [
       "True"
      ]
     },
     "execution_count": 19,
     "metadata": {},
     "output_type": "execute_result"
    }
   ],
   "source": [
    "True or True"
   ]
  },
  {
   "cell_type": "code",
   "execution_count": 20,
   "metadata": {},
   "outputs": [
    {
     "data": {
      "text/plain": [
       "True"
      ]
     },
     "execution_count": 20,
     "metadata": {},
     "output_type": "execute_result"
    }
   ],
   "source": [
    "True or False"
   ]
  },
  {
   "cell_type": "code",
   "execution_count": 21,
   "metadata": {},
   "outputs": [
    {
     "data": {
      "text/plain": [
       "False"
      ]
     },
     "execution_count": 21,
     "metadata": {},
     "output_type": "execute_result"
    }
   ],
   "source": [
    "False or False"
   ]
  },
  {
   "cell_type": "code",
   "execution_count": 22,
   "metadata": {},
   "outputs": [
    {
     "data": {
      "text/plain": [
       "False"
      ]
     },
     "execution_count": 22,
     "metadata": {},
     "output_type": "execute_result"
    }
   ],
   "source": [
    "not True"
   ]
  },
  {
   "cell_type": "code",
   "execution_count": 23,
   "metadata": {},
   "outputs": [
    {
     "data": {
      "text/plain": [
       "True"
      ]
     },
     "execution_count": 23,
     "metadata": {},
     "output_type": "execute_result"
    }
   ],
   "source": [
    "not False"
   ]
  },
  {
   "cell_type": "code",
   "execution_count": 24,
   "metadata": {},
   "outputs": [
    {
     "data": {
      "text/plain": [
       "False"
      ]
     },
     "execution_count": 24,
     "metadata": {},
     "output_type": "execute_result"
    }
   ],
   "source": [
    "1>2 and 3>2"
   ]
  },
  {
   "cell_type": "markdown",
   "metadata": {},
   "source": [
    "此外，判断是否相等需要用两个连在一起的等号“==”，判断不相等可以使用“!=”，否则会报错："
   ]
  },
  {
   "cell_type": "code",
   "execution_count": 25,
   "metadata": {},
   "outputs": [
    {
     "data": {
      "text/plain": [
       "True"
      ]
     },
     "execution_count": 25,
     "metadata": {},
     "output_type": "execute_result"
    }
   ],
   "source": [
    "3==3"
   ]
  },
  {
   "cell_type": "code",
   "execution_count": 26,
   "metadata": {},
   "outputs": [
    {
     "data": {
      "text/plain": [
       "True"
      ]
     },
     "execution_count": 26,
     "metadata": {},
     "output_type": "execute_result"
    }
   ],
   "source": [
    "4!=3"
   ]
  },
  {
   "cell_type": "code",
   "execution_count": 27,
   "metadata": {},
   "outputs": [
    {
     "data": {
      "text/plain": [
       "False"
      ]
     },
     "execution_count": 27,
     "metadata": {},
     "output_type": "execute_result"
    }
   ],
   "source": [
    "3!=3"
   ]
  },
  {
   "cell_type": "markdown",
   "metadata": {},
   "source": [
    "## 运算优先级\n",
    "\n",
    "以上我们介绍了几种常见的运算，包括：\n",
    "\n",
    "* 算数运算\n",
    "    - +\n",
    "    - -\n",
    "    - \\*\n",
    "    - /\n",
    "    - //\n",
    "    - %\n",
    "    - \\*\\*\n",
    "* 比较运算\n",
    "    - ==\n",
    "    - !=\n",
    "    - \\<\n",
    "    - \\<=\n",
    "    - \\>\n",
    "    - \\>=\n",
    "* 逻辑运算\n",
    "    - and\n",
    "    - or\n",
    "    - not\n",
    "\n",
    "等等。这些运算符号并不是从左到右依次执行的，而是具有优先级顺序，比如：\n",
    "\n",
    "```python\n",
    "3+5*7-2\n",
    "```\n",
    "\n",
    "计算的结果应该是先将5\\*7计算出来得到35，再加3、减2，得到36，而不是3+5得到8,8\\*7=56，再减2得到54："
   ]
  },
  {
   "cell_type": "code",
   "execution_count": 28,
   "metadata": {},
   "outputs": [
    {
     "data": {
      "text/plain": [
       "36"
      ]
     },
     "execution_count": 28,
     "metadata": {},
     "output_type": "execute_result"
    }
   ],
   "source": [
    "3+5*7-2"
   ]
  },
  {
   "cell_type": "markdown",
   "metadata": {},
   "source": [
    "在Python中优先级从高到低依次为：\n",
    "\n",
    "1. \\*\\*\n",
    "2. +x、-x：正负号\n",
    "3. \\*、/、%\n",
    "4. +、-\n",
    "5. ==、!=、\\<、\\>、、\\<=、\\>=\n",
    "6. not\n",
    "7. and\n",
    "8. or\n",
    "\n",
    "因而，按照以上规则，我们上面的表达式：\n",
    "```python\n",
    "1>2 and 3>2\n",
    "```\n",
    "\n",
    "应该时先计算1>2的值得到False，再计算3>2的值得到True，最后计算False and True，得到False。\n",
    "\n",
    "此外，需要注意幂运算的等级比正负号要高，所以如果计算："
   ]
  },
  {
   "cell_type": "code",
   "execution_count": 29,
   "metadata": {},
   "outputs": [
    {
     "data": {
      "text/plain": [
       "-4"
      ]
     },
     "execution_count": 29,
     "metadata": {},
     "output_type": "execute_result"
    }
   ],
   "source": [
    "-2**2"
   ]
  },
  {
   "cell_type": "markdown",
   "metadata": {},
   "source": [
    "其计算顺序为先计算$2^2$，再取负，得到了-4。\n",
    "\n",
    "为了改变运算顺序，我们需要加小括号，比如如果我们想要计算$(-2)^2$，需要使用："
   ]
  },
  {
   "cell_type": "code",
   "execution_count": 30,
   "metadata": {},
   "outputs": [
    {
     "data": {
      "text/plain": [
       "4"
      ]
     },
     "execution_count": 30,
     "metadata": {},
     "output_type": "execute_result"
    }
   ],
   "source": [
    "(-2)**2"
   ]
  },
  {
   "cell_type": "markdown",
   "metadata": {},
   "source": [
    "才能得到正确的答案。\n",
    "\n",
    "当对运算优先级没有信心时，多加括号是非常好的习惯。"
   ]
  },
  {
   "cell_type": "markdown",
   "metadata": {},
   "source": [
    "## 变量\n",
    "\n",
    "**变量**（**variable**）是几乎所有编程语言都具有的特性。变量实质上时内存中的一个区域，其中存储着某一些值。在Python中，由于不用像C、Java一样显示地指明变量类型，因而用起来非常简单，直接使用等号“=”赋值即可。比如，我们可以使用以下语句将3这个值保存在变量x中，并在后面引用这个变量："
   ]
  },
  {
   "cell_type": "code",
   "execution_count": 31,
   "metadata": {},
   "outputs": [
    {
     "name": "stdout",
     "output_type": "stream",
     "text": [
      "3\n"
     ]
    }
   ],
   "source": [
    "x=3\n",
    "print(x)"
   ]
  },
  {
   "cell_type": "markdown",
   "metadata": {},
   "source": [
    "变量命名需要一些规则\n",
    "\n",
    "* 变量名不能以数字开头\n",
    "* 变量名不能是python的保留字符，比如is、in等\n",
    "* 不能含有+、-、\\*、空格等特殊字符，但是下划线允许\n",
    "* 变量名区分大小写\n",
    "\n",
    "其他字符都可以使用。由于Python3支持Unicode，因而即使中文也可以做变量名："
   ]
  },
  {
   "cell_type": "code",
   "execution_count": 32,
   "metadata": {},
   "outputs": [
    {
     "name": "stdout",
     "output_type": "stream",
     "text": [
      "3\n",
      "4\n",
      "4 - 5\n"
     ]
    }
   ],
   "source": [
    "三=3\n",
    "print(三)\n",
    "_a=4\n",
    "print(_a)\n",
    "_A=5\n",
    "print(_a,\"-\",_A)"
   ]
  },
  {
   "cell_type": "markdown",
   "metadata": {},
   "source": [
    "虽然Python的变量名要求相对比较宽松，但是还是有一些良好的习惯需要注意：\n",
    "\n",
    "* 尽量不要使用中文做变量名\n",
    "* 变量名要有意义，方便阅读\n",
    "* 尽量不要使用下划线开头，因为下划线开头的变量在Python中可能有特殊含义\n",
    "* 命名时，如果变量名包含几个单词，可以使用下划线区分，或者使用驼峰规则，每个单词第一个字母大写，比如：cat_weight，或者CatWeight\n",
    "\n",
    "除了简单的使用等号赋值之外，Python还有其他几个比较方便的赋值语句，比如：\n",
    "\n",
    "* +=：a+=b等价于a=a+b\n",
    "* -=：a-=b等价于a=a-b\n",
    "* \\*=：a\\*=b等价于a=a\\*b\n",
    "* /=：a/=b等价于a=a/b\n",
    "* \\*\\*=：a\\*\\*=b等价于a=a\\*\\*b\n",
    "* //=：a//=b等价于a=a//b\n",
    "* %=：a%=b等价于a=a%b"
   ]
  },
  {
   "cell_type": "code",
   "execution_count": 33,
   "metadata": {},
   "outputs": [
    {
     "name": "stdout",
     "output_type": "stream",
     "text": [
      "3\n",
      "2\n",
      "4\n",
      "2.0\n",
      "4.0\n"
     ]
    }
   ],
   "source": [
    "a=2\n",
    "a+=1\n",
    "print(a)\n",
    "a-=1\n",
    "print(a)\n",
    "a*=2\n",
    "print(a)\n",
    "a/=2\n",
    "print(a)\n",
    "a**=2\n",
    "print(a)"
   ]
  },
  {
   "cell_type": "markdown",
   "metadata": {},
   "source": [
    "## 字符串\n",
    "\n",
    "以上介绍了Python中的数值类型，而在程序设计中，另外一个基础的数据类型就是字符串。\n",
    "\n",
    "与其他大多数语言一样，Python中使用单引号“''”和双引号“\"\"”表示字符串，以上两种表示方法是等价的："
   ]
  },
  {
   "cell_type": "code",
   "execution_count": 34,
   "metadata": {},
   "outputs": [
    {
     "name": "stdout",
     "output_type": "stream",
     "text": [
      "Hello, Python!\n"
     ]
    }
   ],
   "source": [
    "a=\"Hello,\"\n",
    "b='Python!'\n",
    "print(a,b)\n"
   ]
  },
  {
   "cell_type": "markdown",
   "metadata": {},
   "source": [
    "为什么有两种表示字符串的方式呢？比如，如果我们需要“Let's go”这样一个字符串，如果使用单引号：\n",
    "```python\n",
    "'Let's go'\n",
    "```\n",
    "\n",
    "我们会发现Python自动将Let前后的单引号作为一个字符串，而其后面的“s go”含义不明，从而报错。为了解决这个问题，可以使用双引号：\n",
    "```python\n",
    "\"Let's go\"\n",
    "```\n",
    "就避免了这个问题。同理，如果字符串中存在双引号，就使用单引号声明字符串：\n",
    "```python\n",
    "'\"Python\" is a programming language.'\n",
    "```\n",
    "\n",
    "此外，也有的时候字符串中会同时出现单引号和双引号，此时我们可是使用转义字符解决这个问题，比如：\n",
    "```python\n",
    "\"\\\"Python\\\" is a programming language, let\\'s learn it.\"\n",
    "```\n",
    "\n",
    "在上面的代码中，我们使用“\\\"”代表了“\"”，使用“\\'”代表“'”，从而解决了单引号、双引号与字符串命名冲突的问题："
   ]
  },
  {
   "cell_type": "code",
   "execution_count": 35,
   "metadata": {},
   "outputs": [
    {
     "name": "stdout",
     "output_type": "stream",
     "text": [
      "\"Python\" is a programming language, let's learn it.\n"
     ]
    }
   ],
   "source": [
    "a=\"\\\"Python\\\" is a programming language, let\\'s learn it.\"\n",
    "print(a)"
   ]
  },
  {
   "cell_type": "markdown",
   "metadata": {},
   "source": [
    "除了单引号之外，还有一些其他的字符需要转义，比如，斜杠“\\”本身就需要转义，因为如果不对“\\”转义，解释器并不知道这个斜杠就是一个斜杠，还是与后面的字符链接起来的转义字符，比如："
   ]
  },
  {
   "cell_type": "code",
   "execution_count": 36,
   "metadata": {},
   "outputs": [
    {
     "name": "stdout",
     "output_type": "stream",
     "text": [
      "'' is a special character in Python\n"
     ]
    }
   ],
   "source": [
    "a=\"'\\' is a special character in Python\"\n",
    "print(a)"
   ]
  },
  {
   "cell_type": "markdown",
   "metadata": {},
   "source": [
    "可以发现，Python将斜杠和后面的单引号视为一体，因而没有将斜杠打印出来，正确的写法应该是："
   ]
  },
  {
   "cell_type": "code",
   "execution_count": 37,
   "metadata": {},
   "outputs": [
    {
     "name": "stdout",
     "output_type": "stream",
     "text": [
      "'\\' is a special character in Python\n"
     ]
    }
   ],
   "source": [
    "a=\"'\\\\' is a special character in Python\"\n",
    "print(a)"
   ]
  },
  {
   "cell_type": "markdown",
   "metadata": {},
   "source": [
    "除此之外，Python3中还有其他转义字符：\n",
    "\n",
    "* 每一行结尾处的\\\\：续行符\n",
    "* \\\\\\\\：反斜杠\n",
    "* \\\\'：单引号\n",
    "* \\\\\"：单引号\n",
    "* \\\\b：退格\n",
    "* \\\\v：纵向制表符\n",
    "* \\\\t：横向制表符\n",
    "* \\\\r：回车\n",
    "* \\\\n：换行\n",
    "* \\\\f：换页\n",
    "* ......\n",
    "\n",
    "这里值得注意的是，换行符\\\\n和回车符号\\\\r是两个不同的符号，这点我们在介绍文件时会特别强调。\n",
    "\n",
    "除了使用单引号和双引号表示字符串之外，Python还支持长字符串、原始字符串两种表示方法。\n",
    "\n",
    "其中，长字符串使用三个单引号或者三个双引号包裹，可以用来表示跨越多行的字符串。比如："
   ]
  },
  {
   "cell_type": "code",
   "execution_count": 38,
   "metadata": {},
   "outputs": [
    {
     "name": "stdout",
     "output_type": "stream",
     "text": [
      "这是一个可以跨行的字符串\n",
      "使用三个单引号\n",
      "或者三个双引号包裹\n",
      "\n"
     ]
    }
   ],
   "source": [
    "a=\"\"\"这是一个可以跨行的字符串\n",
    "使用三个单引号\n",
    "或者三个双引号包裹\n",
    "\"\"\"\n",
    "print(a)"
   ]
  },
  {
   "cell_type": "markdown",
   "metadata": {},
   "source": [
    "而原始字符串即不对反斜杠进行转义，比如一个路径可能为：\n",
    "```python\n",
    "a=\"C:\\network\"\n",
    "```\n",
    "\n",
    "然而注意到，由于“\\\\n”有转义，所以Python解释器在碰到“\\\\n”时将其解释为回车："
   ]
  },
  {
   "cell_type": "code",
   "execution_count": 39,
   "metadata": {},
   "outputs": [
    {
     "name": "stdout",
     "output_type": "stream",
     "text": [
      "C:\n",
      "etwork\n"
     ]
    }
   ],
   "source": [
    "a=\"C:\\network\"\n",
    "print(a)"
   ]
  },
  {
   "cell_type": "markdown",
   "metadata": {},
   "source": [
    "如果需要声明该字符串为原始字符串，可以直接在字符串前面加一个“r”，即："
   ]
  },
  {
   "cell_type": "code",
   "execution_count": 40,
   "metadata": {},
   "outputs": [
    {
     "name": "stdout",
     "output_type": "stream",
     "text": [
      "C:\\network\n"
     ]
    }
   ],
   "source": [
    "a=r\"C:\\network\"\n",
    "print(a)"
   ]
  },
  {
   "cell_type": "markdown",
   "metadata": {},
   "source": [
    "此时，Python解释器就不会将“\\\\n”进行转义了。\n",
    "\n",
    "此外，Python3中所有的字符串都是以Unicode进行编码的，因而极大地规避了在Python2以及其他语言中可能碰到的乱码问题，因而使用Python3是非常方便的。也正因为如此，我们可以很方便的使用Unicode字符，并使用“\\\\N{unicode_name}”来表示Unicode字符，比如："
   ]
  },
  {
   "cell_type": "code",
   "execution_count": 41,
   "metadata": {},
   "outputs": [
    {
     "name": "stdout",
     "output_type": "stream",
     "text": [
      "This is a cat: 🐈\n"
     ]
    }
   ],
   "source": [
    "a=\"This is a cat: \\N{cat}\"\n",
    "print(a)"
   ]
  },
  {
   "cell_type": "markdown",
   "metadata": {},
   "source": [
    "Unicode字符可以从 http://unicode-table.com 中找到。"
   ]
  },
  {
   "cell_type": "markdown",
   "metadata": {},
   "source": [
    "如果需要拼接两个字符串，可以简单的使用加号："
   ]
  },
  {
   "cell_type": "code",
   "execution_count": 42,
   "metadata": {},
   "outputs": [
    {
     "name": "stdout",
     "output_type": "stream",
     "text": [
      "This is a cat: 🐈\n"
     ]
    }
   ],
   "source": [
    "a=\"This is a cat: \"\n",
    "b=\"\\N{cat}\"\n",
    "c=a+b\n",
    "print(c)"
   ]
  },
  {
   "cell_type": "markdown",
   "metadata": {},
   "source": [
    "最后需要额外注意的是，作为字符串的\"3\"和作为整型数据的3是完全不一样的，因而我们不能使用：\n",
    "```python\n",
    "\"3\"+2\n",
    "```\n",
    "\n",
    "这样的表达式，正确的做法应该是先使用int()函数将字符串\"3\"转化为数值类型，再进行计算："
   ]
  },
  {
   "cell_type": "code",
   "execution_count": 43,
   "metadata": {},
   "outputs": [
    {
     "name": "stdout",
     "output_type": "stream",
     "text": [
      "5\n"
     ]
    }
   ],
   "source": [
    "a=int(\"3\")+2\n",
    "print(a)"
   ]
  },
  {
   "cell_type": "markdown",
   "metadata": {},
   "source": [
    "同理，如果希望将一个数值型数字处理为字符串，也需要使用str()函数先将数字转化为字符串："
   ]
  },
  {
   "cell_type": "code",
   "execution_count": 44,
   "metadata": {},
   "outputs": [
    {
     "name": "stdout",
     "output_type": "stream",
     "text": [
      "There are 3 cats.\n"
     ]
    }
   ],
   "source": [
    "a=3\n",
    "b=\"There are \"+str(a)+\" cats.\"\n",
    "print(b)"
   ]
  },
  {
   "cell_type": "markdown",
   "metadata": {},
   "source": [
    "## 列表和元组\n",
    "\n",
    "以上我们初步介绍了Python的三种基本数据类型：整型、浮点型以及字符串。接下来我们引入Python中的两种最基本也是最常用的数据结构：**列表**（**list**）和**元组**（**tuple**）。\n",
    "\n",
    "列表和元组都是序列（sequence）的一种，可以看成是一些元素的集合，每个元素都有其位置编号，编号从0开始。列表使用方括号“\\[\\]”进行声明，而元组使用小括号“()”进行声明，或者不用括号直接声明。列表和元组所包含的内容可以是任何Python允许的数据类型、对象等等。\n",
    "\n",
    "### 元组\n",
    "\n",
    "最简单也是最基本的是元组。元组不可更改，一旦创建，只能读取而不能写入，比如："
   ]
  },
  {
   "cell_type": "code",
   "execution_count": 45,
   "metadata": {},
   "outputs": [
    {
     "name": "stdout",
     "output_type": "stream",
     "text": [
      "('Messi', 10)\n"
     ]
    }
   ],
   "source": [
    "name_list = \"Messi\",10\n",
    "print(name_list)"
   ]
  },
  {
   "cell_type": "markdown",
   "metadata": {},
   "source": [
    "以上就创建了一个元组，我们可以读取其某一个分量，但是不能对其进行更改。我们可以使用元组名后面加一个方括号读取相应编号位的元素："
   ]
  },
  {
   "cell_type": "code",
   "execution_count": 46,
   "metadata": {},
   "outputs": [
    {
     "name": "stdout",
     "output_type": "stream",
     "text": [
      "Messi\n",
      "10\n"
     ]
    }
   ],
   "source": [
    "print(name_list[0])\n",
    "print(name_list[1])\n",
    "## 以下语句会报错：\n",
    "# name_list[1]=7"
   ]
  },
  {
   "cell_type": "markdown",
   "metadata": {},
   "source": [
    "由于编号从0开始，因而name_list\\[0\\]代表的是元组中的第一个元素，而name_list\\[1\\]代表第二个元素。方括号中也可以是负数，代表倒数第几个元素："
   ]
  },
  {
   "cell_type": "code",
   "execution_count": 47,
   "metadata": {},
   "outputs": [
    {
     "name": "stdout",
     "output_type": "stream",
     "text": [
      "10\n",
      "Messi\n"
     ]
    }
   ],
   "source": [
    "print(name_list[-1])\n",
    "print(name_list[-2])"
   ]
  },
  {
   "cell_type": "markdown",
   "metadata": {},
   "source": [
    "此外，如果需要声明只有一个元素的元组，需要额外加一个逗号，否则解释器无法判断需要声明的是一个值还是一个元组："
   ]
  },
  {
   "cell_type": "code",
   "execution_count": 48,
   "metadata": {},
   "outputs": [
    {
     "name": "stdout",
     "output_type": "stream",
     "text": [
      "('Messi',)\n",
      "Messi\n"
     ]
    }
   ],
   "source": [
    "name='Messi',\n",
    "print(name)\n",
    "name1='Messi'\n",
    "print(name1)"
   ]
  },
  {
   "cell_type": "markdown",
   "metadata": {},
   "source": [
    "当然，在声明元组时，一个良好的习惯是加上括号，使得程序更具有可读性。\n",
    "\n",
    "由于元组也是Python中的对象，因而元组的成员也可以是元组，并可以使用两个方括号对作为元组成员的元组中的元素进行读取操作："
   ]
  },
  {
   "cell_type": "code",
   "execution_count": 49,
   "metadata": {},
   "outputs": [
    {
     "name": "stdout",
     "output_type": "stream",
     "text": [
      "Messi\n",
      "Xavi : 6\n"
     ]
    }
   ],
   "source": [
    "name_list=(('Messi',10),\n",
    "           ('Xavi',6),\n",
    "           ('Iniesta',8),\n",
    "           ('Puyol',5)\n",
    "          )\n",
    "print(name_list[0][0])\n",
    "print(name_list[1][0],\":\",name_list[1][1])"
   ]
  },
  {
   "cell_type": "markdown",
   "metadata": {},
   "source": [
    "元组虽然不能修改，但是支持**切片**（**slicing**）操作：即从中取出一个子集。切片操作同样使用元组名称后面跟一个方括号，在方括号中使用冒号“:”代表起始位置和终点位置（注意是左闭右开区间）："
   ]
  },
  {
   "cell_type": "code",
   "execution_count": 50,
   "metadata": {},
   "outputs": [
    {
     "name": "stdout",
     "output_type": "stream",
     "text": [
      "(('Messi', 10), ('Xavi', 6))\n",
      "(('Xavi', 6), ('Iniesta', 8))\n",
      "(('Xavi', 6), ('Iniesta', 8), ('Puyol', 5))\n",
      "(('Iniesta', 8), ('Puyol', 5))\n"
     ]
    }
   ],
   "source": [
    "print(name_list[0:2])\n",
    "print(name_list[-3:-1])\n",
    "print(name_list[-3:])\n",
    "print(name_list[2:])"
   ]
  },
  {
   "cell_type": "markdown",
   "metadata": {},
   "source": [
    "### 列表\n",
    "\n",
    "列表的很多操作跟元组类似，但是列表允许被修改，因而更加灵活，也有更多的操作。\n",
    "\n",
    "我们可以很方便的使用方括号定义一个列表："
   ]
  },
  {
   "cell_type": "code",
   "execution_count": 51,
   "metadata": {},
   "outputs": [
    {
     "name": "stdout",
     "output_type": "stream",
     "text": [
      "[('Messi', 10), ('Xavi', 6), ('Iniesta', 8), ('Puyol', 5)]\n"
     ]
    }
   ],
   "source": [
    "player_list=[('Messi',10),\n",
    "           ('Xavi',6),\n",
    "           ('Iniesta',8),\n",
    "           ('Puyol',5)\n",
    "          ]\n",
    "print(player_list)"
   ]
  },
  {
   "cell_type": "markdown",
   "metadata": {},
   "source": [
    "注意以上声明的过程中，与元组唯一的不同是我们在最外面使用了方括号而非圆括号。\n",
    "\n",
    "或者，我们可以使用list()将一个**可迭代**（**iterable**）的对象（包括字符串、元组、列表等）转化为一个列表，比如："
   ]
  },
  {
   "cell_type": "code",
   "execution_count": 52,
   "metadata": {},
   "outputs": [
    {
     "name": "stdout",
     "output_type": "stream",
     "text": [
      "(('Messi', 10), ('Xavi', 6), ('Iniesta', 8), ('Puyol', 5))\n",
      "[('Messi', 10), ('Xavi', 6), ('Iniesta', 8), ('Puyol', 5)]\n",
      "['M', 'e', 's', 's', 'i']\n"
     ]
    }
   ],
   "source": [
    "print(name_list)\n",
    "name_list_list=list(name_list)\n",
    "print(name_list_list)\n",
    "messi=list('Messi')\n",
    "print(messi)"
   ]
  },
  {
   "cell_type": "markdown",
   "metadata": {},
   "source": [
    "与列表不同的是，我们可以对列表进行修改操作："
   ]
  },
  {
   "cell_type": "code",
   "execution_count": 53,
   "metadata": {},
   "outputs": [
    {
     "name": "stdout",
     "output_type": "stream",
     "text": [
      "[('Messi', 10), ('Xavi', 6), ('Iniesta', 8), ('Puyol', 5)]\n",
      "[('Messi', 10), ('Xavi', 6), ('Iniesta', 8), ('ter Stegen', 1)]\n"
     ]
    }
   ],
   "source": [
    "print(player_list)\n",
    "player_list[3]=('ter Stegen',1)\n",
    "print(player_list)"
   ]
  },
  {
   "cell_type": "markdown",
   "metadata": {},
   "source": [
    "以及使用del语句进行删除操作："
   ]
  },
  {
   "cell_type": "code",
   "execution_count": 54,
   "metadata": {},
   "outputs": [
    {
     "name": "stdout",
     "output_type": "stream",
     "text": [
      "[('Messi', 10), ('Xavi', 6), ('ter Stegen', 1)]\n"
     ]
    }
   ],
   "source": [
    "del player_list[2]\n",
    "print(player_list)"
   ]
  },
  {
   "cell_type": "markdown",
   "metadata": {},
   "source": [
    "当然，也可以进行新增，使用列表的append()方法可以在列表最后添加一个元素，比如："
   ]
  },
  {
   "cell_type": "code",
   "execution_count": 55,
   "metadata": {},
   "outputs": [
    {
     "name": "stdout",
     "output_type": "stream",
     "text": [
      "[('Messi', 10), ('Xavi', 6), ('ter Stegen', 1), ('Busquets', 5)]\n"
     ]
    }
   ],
   "source": [
    "player_list.append(('Busquets',5))\n",
    "print(player_list)"
   ]
  },
  {
   "cell_type": "markdown",
   "metadata": {},
   "source": [
    "如果需要添加的元素比较多，可以使用extend()方法，比如："
   ]
  },
  {
   "cell_type": "code",
   "execution_count": 56,
   "metadata": {},
   "outputs": [
    {
     "name": "stdout",
     "output_type": "stream",
     "text": [
      "[('Messi', 10), ('Xavi', 6), ('ter Stegen', 1), ('Busquets', 5), ('Pique', 3), ('Suárez', 9)]\n"
     ]
    }
   ],
   "source": [
    "player_list_new=[('Pique',3),('Suárez',9)]\n",
    "player_list.extend(player_list_new)\n",
    "print(player_list)"
   ]
  },
  {
   "cell_type": "markdown",
   "metadata": {},
   "source": [
    "如果需要在某一个位置插入元素，可以使用insert()方法："
   ]
  },
  {
   "cell_type": "code",
   "execution_count": 57,
   "metadata": {},
   "outputs": [
    {
     "name": "stdout",
     "output_type": "stream",
     "text": [
      "[('Messi', 10), ('Alba', 18), ('Xavi', 6), ('ter Stegen', 1), ('Busquets', 5), ('Pique', 3), ('Suárez', 9)]\n"
     ]
    }
   ],
   "source": [
    "player_list.insert(1,('Alba',18))\n",
    "print(player_list)"
   ]
  },
  {
   "cell_type": "markdown",
   "metadata": {},
   "source": [
    "还可以使用count()方法计算某个元素出现的次数、使用index()方法找到某个元素第一次出现的位置，比如："
   ]
  },
  {
   "cell_type": "code",
   "execution_count": 58,
   "metadata": {},
   "outputs": [
    {
     "name": "stdout",
     "output_type": "stream",
     "text": [
      "2\n",
      "2\n"
     ]
    }
   ],
   "source": [
    "messi=list('Messi')\n",
    "count_s=messi.count('s')\n",
    "first_s=messi.index('s')\n",
    "print(count_s)\n",
    "print(first_s)"
   ]
  },
  {
   "cell_type": "markdown",
   "metadata": {},
   "source": [
    "需要特别注意的是，在Python中，使用等号将一个对象赋值给另一个对象，并不会导致对象的拷贝，而仅仅是给了一个别名，比如："
   ]
  },
  {
   "cell_type": "code",
   "execution_count": 59,
   "metadata": {},
   "outputs": [
    {
     "name": "stdout",
     "output_type": "stream",
     "text": [
      "[('Messi', 10), ('Alba', 18), ('Xavi', 6), ('ter Stegen', 1), ('Busquets', 5), ('Pique', 3), ('Suárez', 9)]\n",
      "[('Messi', 10), ('Xavi', 6), ('ter Stegen', 1), ('Busquets', 5), ('Pique', 3), ('Suárez', 9)]\n"
     ]
    }
   ],
   "source": [
    "another_play_list=player_list\n",
    "print(player_list)\n",
    "del another_play_list[1]\n",
    "print(player_list)"
   ]
  },
  {
   "cell_type": "markdown",
   "metadata": {},
   "source": [
    "在以上程序中，我们会发现，虽然我们删除的是another_play_list的第2个元素，但是实际上，another_player_list和play_list只是同一个变量的不同别名而已，并没有重新复制一个新的list。\n",
    "\n",
    "如果我们需要的是list的一个新的拷贝，需要使用list的copy()方法："
   ]
  },
  {
   "cell_type": "code",
   "execution_count": 60,
   "metadata": {},
   "outputs": [
    {
     "name": "stdout",
     "output_type": "stream",
     "text": [
      "[('Messi', 10), ('Xavi', 6), ('ter Stegen', 1), ('Busquets', 5), ('Pique', 3), ('Suárez', 9)]\n",
      "[('Messi', 10), ('Xavi', 6), ('ter Stegen', 1), ('Busquets', 5), ('Pique', 3), ('Suárez', 9)]\n",
      "[('Messi', 10), ('ter Stegen', 1), ('Busquets', 5), ('Pique', 3), ('Suárez', 9)]\n"
     ]
    }
   ],
   "source": [
    "another_play_list=player_list.copy()\n",
    "print(player_list)\n",
    "del another_play_list[1]\n",
    "print(player_list)\n",
    "print(another_play_list)"
   ]
  },
  {
   "cell_type": "markdown",
   "metadata": {},
   "source": [
    "最后，列表、元组、字符串还支持in操作符，该操作符判断in之前的元素是否属于之后的列表、元组或者字符串，比如："
   ]
  },
  {
   "cell_type": "code",
   "execution_count": 61,
   "metadata": {},
   "outputs": [
    {
     "name": "stdout",
     "output_type": "stream",
     "text": [
      "True\n",
      "False\n",
      "True\n",
      "False\n"
     ]
    }
   ],
   "source": [
    "print('Messi' in player_list[0][0])\n",
    "print('Messi' in player_list[1][0])\n",
    "print(('Pique', 3) in player_list)\n",
    "print('d' in 'Messi')"
   ]
  },
  {
   "cell_type": "markdown",
   "metadata": {},
   "source": [
    "如果要判断in之前的元素“不属于”之后的列表、元组或字符串，可以使用“not in”:"
   ]
  },
  {
   "cell_type": "code",
   "execution_count": 62,
   "metadata": {},
   "outputs": [
    {
     "name": "stdout",
     "output_type": "stream",
     "text": [
      "False\n",
      "True\n",
      "False\n",
      "True\n"
     ]
    }
   ],
   "source": [
    "print('Messi' not in player_list[0][0])\n",
    "print('Messi' not in player_list[1][0])\n",
    "print(('Pique', 3) not in player_list)\n",
    "print('d' not in 'Messi')"
   ]
  },
  {
   "cell_type": "markdown",
   "metadata": {},
   "source": [
    "## 集合\n",
    "\n",
    "无论是列表还是元组，都允许有重复的元素存在，但是有时我们可能需要不重复的元素，此时可以使用**集合**（**set**）类。\n",
    "\n",
    "集合的声明与列表类似，区别在于集合使用大括号{}，而非中括号。\n",
    "\n",
    "与list()类似，可以使用使用set()构建集合："
   ]
  },
  {
   "cell_type": "code",
   "execution_count": 63,
   "metadata": {},
   "outputs": [
    {
     "name": "stdout",
     "output_type": "stream",
     "text": [
      "{'e', 'M', 'i', 's'}\n"
     ]
    }
   ],
   "source": [
    "letters=set(\"Messi\")\n",
    "print(letters)"
   ]
  },
  {
   "cell_type": "markdown",
   "metadata": {},
   "source": [
    "以上可以看到，set()构建了一个不重复元素组成的集合。可以使用add()方法以及update()方法为集合新增元素，比如："
   ]
  },
  {
   "cell_type": "code",
   "execution_count": 64,
   "metadata": {},
   "outputs": [
    {
     "name": "stdout",
     "output_type": "stream",
     "text": [
      "{'i', 's', 'a', 'e', 'M'}\n",
      "{'i', 's', 'a', 'e', ('a',), 'M'}\n",
      "{'d', 'i', 's', 'a', 'e', ('a',), 'c', 'M'}\n"
     ]
    }
   ],
   "source": [
    "letters.add('a')\n",
    "print(letters)\n",
    "letters.add(('a',))\n",
    "print(letters)\n",
    "letters.update({'c','d'})\n",
    "print(letters)"
   ]
  },
  {
   "cell_type": "markdown",
   "metadata": {},
   "source": [
    "值得注意的是，在上面的程序中，我们添加了字符串'a'，以及一个元组('a',)，两者一个是字符串，一个是元组，是不同的，因而在集合中两者并不冲突。\n",
    "\n",
    "如果需要删除，可以使用remove()方法以及discard()方法，两者的区别在于：remove()方法不能删除不存在的元素，否则报错；而discard()方法如果要删除的元素不存在，不会报错。"
   ]
  },
  {
   "cell_type": "code",
   "execution_count": 65,
   "metadata": {},
   "outputs": [
    {
     "name": "stdout",
     "output_type": "stream",
     "text": [
      "{'d', 'i', 's', 'a', 'e', 'c', 'M'}\n",
      "{'d', 'i', 's', 'a', 'e', 'c', 'M'}\n"
     ]
    }
   ],
   "source": [
    "letters.remove(('a',))\n",
    "print(letters)\n",
    "letters.discard('z')\n",
    "print(letters)"
   ]
  },
  {
   "cell_type": "markdown",
   "metadata": {},
   "source": [
    "最后，作为集合，还可以使用issubset()和issuperset()方法判断某一个集合是不是另外一个集合的子集或者超集："
   ]
  },
  {
   "cell_type": "code",
   "execution_count": 66,
   "metadata": {},
   "outputs": [
    {
     "name": "stdout",
     "output_type": "stream",
     "text": [
      "False\n",
      "True\n",
      "True\n",
      "False\n"
     ]
    }
   ],
   "source": [
    "print(letters.issuperset({'a','b'}))\n",
    "print(letters.issuperset({'a','d'}))\n",
    "print({'a','d'}.issubset(letters))\n",
    "print({'a','d'}.issuperset(letters))"
   ]
  },
  {
   "cell_type": "markdown",
   "metadata": {},
   "source": [
    "## 控制语句：循环\n",
    "\n",
    "有时我们需要重复一条类似的命令很多次，此时我们可以使用循环命令。\n",
    "\n",
    "在Python中有两个循环语句：while和for，两者很大程度上是等价的，但是在不同情况下方便程度时不一样的。\n",
    "\n",
    "for作为关键字，其基本语法为：\n",
    "```python\n",
    "for var in iterable_obj:\n",
    "    ## code\n",
    "```\n",
    "\n",
    "其中var为一个变量，iterable_obj为一个可迭代对象，如列表、元组或者字符串，其后面紧接着跟着一个冒号。\n",
    "\n",
    "在这里需要注意的是，不像C或者Java使用大括号区分代码块，在Python中，主要靠缩进区分代码块，因而需要循环执行的代码，要写在for语句的下一行，并使用Tab键或者几个（一般为4/8个）空格进行缩进。\n",
    "\n",
    "比如，以下语句把字符串中的每个字符都分别打印出来："
   ]
  },
  {
   "cell_type": "code",
   "execution_count": 67,
   "metadata": {},
   "outputs": [
    {
     "name": "stdout",
     "output_type": "stream",
     "text": [
      "M\n",
      "e\n",
      "s\n",
      "s\n",
      "i\n"
     ]
    }
   ],
   "source": [
    "name='Messi'\n",
    "for n in name:\n",
    "    print(n)"
   ]
  },
  {
   "cell_type": "markdown",
   "metadata": {},
   "source": [
    "而以下代码将player_list中所有的人名及号码打印出来："
   ]
  },
  {
   "cell_type": "code",
   "execution_count": 68,
   "metadata": {},
   "outputs": [
    {
     "name": "stdout",
     "output_type": "stream",
     "text": [
      "Messi : 10\n",
      "Xavi : 6\n",
      "ter Stegen : 1\n",
      "Busquets : 5\n",
      "Pique : 3\n",
      "Suárez : 9\n",
      "---the end---\n"
     ]
    }
   ],
   "source": [
    "for player in player_list:\n",
    "    print(player[0],end='')\n",
    "    print(\" : \",end='')\n",
    "    print(player[1])\n",
    "print(\"---the end---\")"
   ]
  },
  {
   "cell_type": "markdown",
   "metadata": {},
   "source": [
    "注意到最后一行并没有被缩进，因而不属于需要循环执行的代码块，因而只执行了一次。\n",
    "\n",
    "此外，经常遇到的一个情形是对数字进行循环，此时可以使用range()函数。如果使用range(N)，将会返回一个可迭代的对象，其值为0,...,N-1。比如："
   ]
  },
  {
   "cell_type": "code",
   "execution_count": 69,
   "metadata": {},
   "outputs": [
    {
     "data": {
      "text/plain": [
       "[0, 1, 2, 3, 4, 5, 6, 7, 8, 9]"
      ]
     },
     "execution_count": 69,
     "metadata": {},
     "output_type": "execute_result"
    }
   ],
   "source": [
    "list(range(10))"
   ]
  },
  {
   "cell_type": "markdown",
   "metadata": {},
   "source": [
    "也可以使用range(N,M)的形式，此时返回迭代对象的值为N,N+1,...,M-1，比如："
   ]
  },
  {
   "cell_type": "code",
   "execution_count": 70,
   "metadata": {},
   "outputs": [
    {
     "data": {
      "text/plain": [
       "[1, 2, 3, 4, 5, 6, 7, 8, 9, 10]"
      ]
     },
     "execution_count": 70,
     "metadata": {},
     "output_type": "execute_result"
    }
   ],
   "source": [
    "list(range(1,11))"
   ]
  },
  {
   "cell_type": "markdown",
   "metadata": {},
   "source": [
    "使用以上特性，我们可以方便的使用range()函数来写for 循环，比如："
   ]
  },
  {
   "cell_type": "code",
   "execution_count": 71,
   "metadata": {},
   "outputs": [
    {
     "name": "stdout",
     "output_type": "stream",
     "text": [
      "M\n",
      "e\n",
      "s\n",
      "s\n",
      "i\n"
     ]
    }
   ],
   "source": [
    "name='Messi'\n",
    "for i in range(len(name)):\n",
    "    print(name[i])"
   ]
  },
  {
   "cell_type": "markdown",
   "metadata": {},
   "source": [
    "其中len()函数取得name中元素的个数，由于len(name)的值为5，因而range(len(name))就产生了一个可以迭代的、值为0,1,2,3,4的对象。\n",
    "\n",
    "以下程序计算了从1到101的所有奇数的和："
   ]
  },
  {
   "cell_type": "code",
   "execution_count": 72,
   "metadata": {},
   "outputs": [
    {
     "name": "stdout",
     "output_type": "stream",
     "text": [
      "2601\n"
     ]
    }
   ],
   "source": [
    "sum_odd=0\n",
    "for i in range(0,51):\n",
    "    odd=2*i+1\n",
    "    sum_odd+=odd\n",
    "print(sum_odd)"
   ]
  },
  {
   "cell_type": "markdown",
   "metadata": {},
   "source": [
    "而while循环的语法为：\n",
    "```python\n",
    "while logic_expression:\n",
    "    ## code\n",
    "```\n",
    "\n",
    "同样，while循环的代码块也需要用缩进表示，而logic_expression是一个逻辑判断语句，只有当logic_expression值为真时，循环才继续执行，否则跳出循环。比如刚刚从1到101的所有奇数的和的代码也可以写为："
   ]
  },
  {
   "cell_type": "code",
   "execution_count": 73,
   "metadata": {},
   "outputs": [
    {
     "name": "stdout",
     "output_type": "stream",
     "text": [
      "2601\n"
     ]
    }
   ],
   "source": [
    "sum_odd=0\n",
    "odd=1\n",
    "while odd<=101:\n",
    "    sum_odd+=odd\n",
    "    odd+=2\n",
    "print(sum_odd)"
   ]
  },
  {
   "cell_type": "markdown",
   "metadata": {},
   "source": [
    "特别需要注意的是一定不要忘了及时更新odd，否则很容易造成无限循环。"
   ]
  },
  {
   "cell_type": "markdown",
   "metadata": {},
   "source": [
    "## 控制语句：条件\n",
    "\n",
    "条件语句用于判断某一个逻辑表达式，如果为真，则执行某个代码块。其最基本的形式如下：\n",
    "```python\n",
    "if logic_expression:\n",
    "    ## code\n",
    "```\n",
    "\n",
    "同样，代码块也需要用缩进表示，其中的代码块只有当logic_expression的值为真时才执行，否则不执行。\n",
    "\n",
    "比如，如下的代码中，首先判断球员姓名是否为Messi或者Suárez，如果是，则打印其位置："
   ]
  },
  {
   "cell_type": "code",
   "execution_count": 74,
   "metadata": {},
   "outputs": [
    {
     "name": "stdout",
     "output_type": "stream",
     "text": [
      "Messi :前锋\n",
      "Suárez :前锋\n"
     ]
    }
   ],
   "source": [
    "for p in player_list:\n",
    "    if p[0]=='Messi' or p[0]=='Suárez':\n",
    "        print(p[0],\":前锋\")"
   ]
  },
  {
   "cell_type": "markdown",
   "metadata": {},
   "source": [
    "此外，if 后面还可以跟elif语句：\n",
    "```python\n",
    "if logic_expression1:\n",
    "    ## code1\n",
    "elif logic_expression2:\n",
    "    ## code2\n",
    "elif  logic_expression3:\n",
    "    ## code3\n",
    "....\n",
    "```\n",
    "\n",
    "即“else if”，如果logic_expression1满足，则执行code1，如果不满足，则继续判断logic_expression2是否满足，若满足，则执行code2，以此类推。比如："
   ]
  },
  {
   "cell_type": "code",
   "execution_count": 75,
   "metadata": {},
   "outputs": [
    {
     "name": "stdout",
     "output_type": "stream",
     "text": [
      "Messi ：前锋\n",
      "Xavi ：中场\n",
      "Busquets ：中场\n",
      "Pique ：后卫\n",
      "Suárez ：前锋\n"
     ]
    }
   ],
   "source": [
    "for p in player_list:\n",
    "    if p[0] in ('Messi', 'Suárez'):\n",
    "        print(p[0],\"：前锋\")\n",
    "    elif p[0] in ('Xavi', 'Arthur','Busquets'):\n",
    "        print(p[0],\"：中场\")\n",
    "    elif p[0] in ('Pique'):\n",
    "        print(p[0],\"：后卫\")"
   ]
  },
  {
   "cell_type": "markdown",
   "metadata": {},
   "source": [
    "最后，还可以加else语句，用于所有的if或者elif的逻辑表达式都不满足时执行"
   ]
  },
  {
   "cell_type": "code",
   "execution_count": 76,
   "metadata": {},
   "outputs": [
    {
     "name": "stdout",
     "output_type": "stream",
     "text": [
      "Messi ：前锋\n",
      "Xavi ：中场\n",
      "ter Stegen 守门员\n",
      "Busquets ：中场\n",
      "Pique ：后卫\n",
      "Suárez ：前锋\n"
     ]
    }
   ],
   "source": [
    "for p in player_list:\n",
    "    if p[0] in ('Messi', 'Suárez'):\n",
    "        print(p[0],\"：前锋\")\n",
    "    elif p[0] in ('Xavi', 'Iniesta','Busquets'):\n",
    "        print(p[0],\"：中场\")\n",
    "    elif p[0] in ('Pique'):\n",
    "        print(p[0],\"：后卫\")\n",
    "    else:\n",
    "        print(p[0],\"守门员\")"
   ]
  },
  {
   "cell_type": "markdown",
   "metadata": {},
   "source": [
    "此外，if语句可以与break、continue、pass等一起控制循环。其中：\n",
    "\n",
    "* break：跳出循环不再执行\n",
    "* countinue：跳出本次循环后面的代码，但是循环继续执行\n",
    "* pass：什么都不做，继续执行\n",
    "\n",
    "比如，计算从1到101的所有奇数的和的代码也可以写为："
   ]
  },
  {
   "cell_type": "code",
   "execution_count": 77,
   "metadata": {},
   "outputs": [
    {
     "name": "stdout",
     "output_type": "stream",
     "text": [
      "2601\n"
     ]
    }
   ],
   "source": [
    "sum_odd=0\n",
    "odd=1\n",
    "while True:\n",
    "    sum_odd+=odd\n",
    "    odd+=2\n",
    "    if odd>101:\n",
    "        break\n",
    "print(sum_odd)"
   ]
  },
  {
   "cell_type": "markdown",
   "metadata": {},
   "source": [
    "在以上代码中，while True代表循环会一直执行，但是if语句会判断odd是否大于了101，如果odd一旦大于101，就会使用break退出循环。\n",
    "\n",
    "如果我们需要计算从1到101的所有不能被5整除的奇数的和，可以使用pass语句："
   ]
  },
  {
   "cell_type": "code",
   "execution_count": 79,
   "metadata": {},
   "outputs": [
    {
     "name": "stdout",
     "output_type": "stream",
     "text": [
      "2101\n"
     ]
    }
   ],
   "source": [
    "sum_odd=0\n",
    "odd=1\n",
    "while odd<=101:\n",
    "    if odd%5==0:\n",
    "        pass\n",
    "    else:\n",
    "        sum_odd+=odd\n",
    "    odd+=2\n",
    "print(sum_odd)"
   ]
  },
  {
   "cell_type": "markdown",
   "metadata": {},
   "source": [
    "以下代码我们使用continue语句将一个字符串中所有的's'都给去掉"
   ]
  },
  {
   "cell_type": "code",
   "execution_count": 81,
   "metadata": {},
   "outputs": [
    {
     "name": "stdout",
     "output_type": "stream",
     "text": [
      "Mei\n"
     ]
    }
   ],
   "source": [
    "a='Messi'\n",
    "b=''\n",
    "for s in a:\n",
    "    if s=='s':\n",
    "        continue\n",
    "    b+=s\n",
    "print(b)"
   ]
  },
  {
   "cell_type": "markdown",
   "metadata": {},
   "source": [
    "在以上代码中，当碰到's'时，循环跳过了b+=s这一句，而是继续执行循环，直到循环结束。与之相比的是break命令直接跳出了循环："
   ]
  },
  {
   "cell_type": "code",
   "execution_count": 82,
   "metadata": {},
   "outputs": [
    {
     "name": "stdout",
     "output_type": "stream",
     "text": [
      "Me\n"
     ]
    }
   ],
   "source": [
    "a='Messi'\n",
    "b=''\n",
    "for s in a:\n",
    "    if s=='s':\n",
    "        break\n",
    "    b+=s\n",
    "print(b)"
   ]
  },
  {
   "cell_type": "markdown",
   "metadata": {},
   "source": [
    "## 控制语句：异常"
   ]
  }
 ],
 "metadata": {
  "kernelspec": {
   "display_name": "Python 3",
   "language": "python",
   "name": "python3"
  },
  "language_info": {
   "codemirror_mode": {
    "name": "ipython",
    "version": 3
   },
   "file_extension": ".py",
   "mimetype": "text/x-python",
   "name": "python",
   "nbconvert_exporter": "python",
   "pygments_lexer": "ipython3",
   "version": "3.6.7"
  }
 },
 "nbformat": 4,
 "nbformat_minor": 2
}
