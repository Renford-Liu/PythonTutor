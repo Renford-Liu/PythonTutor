{
 "cells": [
  {
   "cell_type": "markdown",
   "metadata": {},
   "source": [
    "# HTML简介\n",
    "\n",
    "**HTML**语言（超文本标记语言，HyperText Markup Language）是编写网页的标准语言。HTML是一种标记语言，使用**标签**标记关键词。HTML语言中的标签通常都是成对出现的，包括一个开始标签和一个结束标签，结束标签即在标签名前面加一个斜杠：/。\n",
    "\n",
    "所有的HTML文件都是以<html\\>标签开始，以</html\\>标签结束的。而在中间，还有两个主要组成部分：\n",
    "\n",
    "* 以<head\\>标签开始、</head\\>标签结束的部分称之为头部，通常定义了一些网页的元数据，包括网页的标题、关键字等；\n",
    "* 以<body\\>标签开始、</body\\>标签结束的部分为网页的主体，也就是我们能够看到的部分。\n",
    "\n",
    "因而，一个非常简单的网页如下所示（html/example1.html）：\n",
    "\n",
    "```html\n",
    "<html>\n",
    "    <head>\n",
    "        <title>一个简单的网页</title>\n",
    "    </head>\n",
    "    <body>\n",
    "        <p>这是一段文本</p>\n",
    "        <a href='http://github.com'>这是一个链接：GitHub</a>\n",
    "    </body>\n",
    "</html>\n",
    "```\n",
    "\n",
    "其效果如下图所示：\n",
    "![](html/example1.png \"简单网页\")\n",
    "\n",
    "注意在上面的简单网页中，我们使用了两个另外的标签：\n",
    "\n",
    "* 以<p\\>标签开始、</p\\>标签结束，代表一个段落\n",
    "* 以<a\\>标签开始、</a\\>标签结束，代表一个超链接\n",
    "\n",
    "此外，注意到在<a\\>标签中，有一个href=，这是链接的属性，该属性代表这个超链接的地址。\n",
    "\n",
    "上面提到，标签一般都是成对出现的，但是也有不是成对出现的，比如插入图像时，我们要使用<img\\>标签，该标签就不是成对出现，但是因为该标签不是成对出现，所以要在结尾加一个斜杠：<img/\\>，比如（html/example2.html）：\n",
    "```html\n",
    "<html>\n",
    "    <head>\n",
    "        <title>一个简单的网页</title>\n",
    "    </head>\n",
    "    <body>\n",
    "        <p>这是一段文本</p>\n",
    "        <a href='http://github.com'>\n",
    "            <p>这是一个链接：GitHub</p>\n",
    "            <img src='example1.png' />\n",
    "        </a>\n",
    "    </body>\n",
    "</html>\n",
    "```\n",
    "\n",
    "在以上的HTML代码中，我们插入了一个图片，其地址为同一个文件夹下面的“example1.png”。\n",
    "\n",
    "此外，注意到在以上代码中，<img/\\>标签被加载了<a\\>标签的中间，而<a\\>标签意味着超链接，从而现在，这张图片是可以点击的，点击图片就可以进入到GitHub的网址上。"
   ]
  },
  {
   "cell_type": "code",
   "execution_count": null,
   "metadata": {},
   "outputs": [],
   "source": []
  }
 ],
 "metadata": {
  "kernelspec": {
   "display_name": "Python 3",
   "language": "python",
   "name": "python3"
  },
  "language_info": {
   "codemirror_mode": {
    "name": "ipython",
    "version": 3
   },
   "file_extension": ".py",
   "mimetype": "text/x-python",
   "name": "python",
   "nbconvert_exporter": "python",
   "pygments_lexer": "ipython3",
   "version": "3.6.7"
  }
 },
 "nbformat": 4,
 "nbformat_minor": 2
}
