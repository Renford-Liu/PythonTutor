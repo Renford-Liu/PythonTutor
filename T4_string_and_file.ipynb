{
 "cells": [
  {
   "cell_type": "markdown",
   "metadata": {},
   "source": [
    "# 字符串\n",
    "\n",
    "之前我们已经详细介绍了字符串的基础知识，在这里我们对字符串进行更加详细的介绍。\n",
    "\n",
    "## 格式化字符串\n",
    "\n",
    "在构造字符串时，有时我们需要在字符串中进行替换或者设置数字等的格式，此时我们可能需要使用转换说明符“%”或者format()方法。\n",
    "\n",
    "%操作符用于比较简单的字符串替换和格式设置工作，但是已经能够胜任绝大多数的工作。最经常使用的有如下几种：\n",
    "\n",
    "* %d：整数\n",
    "* %f：浮点数\n",
    "* %s：字符串\n",
    "* %e：将数字换为科学计数法\n",
    "\n",
    "比如："
   ]
  },
  {
   "cell_type": "code",
   "execution_count": 1,
   "metadata": {},
   "outputs": [
    {
     "name": "stdout",
     "output_type": "stream",
     "text": [
      "球员：Messi，号码：10\n",
      "球员：Xavi，号码：6\n",
      "球员：ter Stegen，号码：1\n",
      "球员：Busquets，号码：5\n",
      "球员：Pique，号码：3\n",
      "球员：Suárez，号码：9\n"
     ]
    }
   ],
   "source": [
    "player_list=[('Messi', 10), ('Xavi', 6), ('ter Stegen', 1), ('Busquets', 5), ('Pique', 3), ('Suárez', 9)]\n",
    "\n",
    "for p in player_list:\n",
    "    pstr=\"球员：%s，号码：%d\" % (p[0],p[1])\n",
    "    print(pstr)"
   ]
  },
  {
   "cell_type": "markdown",
   "metadata": {},
   "source": [
    "以上我们使用%s和%d分别代表需要使用一个字符串和一个整数在这个字符串里面进行替代，而右边的元组则分别将其对应上去。\n",
    "\n",
    "对于浮点数，同理："
   ]
  },
  {
   "cell_type": "code",
   "execution_count": 2,
   "metadata": {},
   "outputs": [
    {
     "name": "stdout",
     "output_type": "stream",
     "text": [
      "0.000000 | 0.000000e+00\n",
      "0.100000 | 1.000000e-01\n",
      "0.200000 | 2.000000e-01\n",
      "0.300000 | 3.000000e-01\n",
      "0.400000 | 4.000000e-01\n",
      "0.500000 | 5.000000e-01\n",
      "0.600000 | 6.000000e-01\n",
      "0.700000 | 7.000000e-01\n",
      "0.800000 | 8.000000e-01\n",
      "0.900000 | 9.000000e-01\n"
     ]
    }
   ],
   "source": [
    "num_list=list(range(0,10))\n",
    "\n",
    "for n in num_list:\n",
    "    print(\"%f | %e\" % (n/10,n/10))"
   ]
  },
  {
   "cell_type": "markdown",
   "metadata": {},
   "source": [
    "此外，除了列表之外，%操作符还支持字典，用括号来表示字典的键，比如："
   ]
  },
  {
   "cell_type": "code",
   "execution_count": 3,
   "metadata": {},
   "outputs": [
    {
     "name": "stdout",
     "output_type": "stream",
     "text": [
      "Messi: 10 \n",
      "Xavi: 6\n"
     ]
    }
   ],
   "source": [
    "code={'Messi':10,'Xavi':6,'ter Stegen':1,'Busquets':5,'Pique':3,'Suárez':9}\n",
    "print(\"Messi: %(Messi)s \\nXavi: %(Xavi)s\" % code)"
   ]
  },
  {
   "cell_type": "markdown",
   "metadata": {},
   "source": [
    "注意在%和s之间括号中表示的是字典的键，但是不需要加引号。\n",
    "\n",
    "以上虽然打印出了数字或者字符串，但是可能还不够好看，使用%操作符还可以设置字符串的格式。比如需要保留多少位小数位、字符串所占的长度等。一般的，可以在%和s,d之间用一个数字表示所占的宽度，比如："
   ]
  },
  {
   "cell_type": "code",
   "execution_count": 4,
   "metadata": {},
   "outputs": [
    {
     "name": "stdout",
     "output_type": "stream",
     "text": [
      "球员：     Messi，号码：10\n",
      "球员：      Xavi，号码： 6\n",
      "球员：ter Stegen，号码： 1\n",
      "球员：  Busquets，号码： 5\n",
      "球员：     Pique，号码： 3\n",
      "球员：    Suárez，号码： 9\n"
     ]
    }
   ],
   "source": [
    "player_list=[('Messi', 10), ('Xavi', 6), ('ter Stegen', 1), ('Busquets', 5), ('Pique', 3), ('Suárez', 9)]\n",
    "\n",
    "for p in player_list:\n",
    "    pstr=\"球员：%10s，号码：%2d\" % (p[0],p[1])\n",
    "    print(pstr)\n"
   ]
  },
  {
   "cell_type": "markdown",
   "metadata": {},
   "source": [
    "而对于浮点数f和e，可以使用%n.mf表示整数位和小数位分别显示n位和m位。比如："
   ]
  },
  {
   "cell_type": "code",
   "execution_count": 5,
   "metadata": {},
   "outputs": [
    {
     "name": "stdout",
     "output_type": "stream",
     "text": [
      "0.00 | 0.00e+00\n",
      "0.10 | 1.00e-01\n",
      "0.20 | 2.00e-01\n",
      "0.30 | 3.00e-01\n",
      "0.40 | 4.00e-01\n",
      "0.50 | 5.00e-01\n",
      "0.60 | 6.00e-01\n",
      "0.70 | 7.00e-01\n",
      "0.80 | 8.00e-01\n",
      "0.90 | 9.00e-01\n"
     ]
    }
   ],
   "source": [
    "num_list=list(range(0,10))\n",
    "for n in num_list:\n",
    "    print(\"%1.2f | %1.2e\" % (n/10,n/10))"
   ]
  },
  {
   "cell_type": "markdown",
   "metadata": {},
   "source": [
    "此外我们还可以使用以下几个符号声明对齐方式：\n",
    "\n",
    "* +：正数前加正号\n",
    "* -：左对齐\n",
    "* 空格：右对齐，左边用空格填充\n",
    "* 0：用0填充空白\n",
    "\n",
    "比如："
   ]
  },
  {
   "cell_type": "code",
   "execution_count": 6,
   "metadata": {},
   "outputs": [
    {
     "name": "stdout",
     "output_type": "stream",
     "text": [
      "球员：     Messi，号码：+10\n",
      "球员：      Xavi，号码：+6\n",
      "球员：ter Stegen，号码：+1\n",
      "球员：  Busquets，号码：+5\n",
      "球员：     Pique，号码：+3\n",
      "球员：    Suárez，号码：+9\n"
     ]
    }
   ],
   "source": [
    "player_list=[('Messi', 10), ('Xavi', 6), ('ter Stegen', 1), ('Busquets', 5), ('Pique', 3), ('Suárez', 9)]\n",
    "\n",
    "for p in player_list:\n",
    "    pstr=\"球员：%+10s，号码：%+2d\" % (p[0],p[1])\n",
    "    print(pstr)"
   ]
  },
  {
   "cell_type": "code",
   "execution_count": 7,
   "metadata": {},
   "outputs": [
    {
     "name": "stdout",
     "output_type": "stream",
     "text": [
      "球员：Messi     ，号码：10\n",
      "球员：Xavi      ，号码：6 \n",
      "球员：ter Stegen，号码：1 \n",
      "球员：Busquets  ，号码：5 \n",
      "球员：Pique     ，号码：3 \n",
      "球员：Suárez    ，号码：9 \n"
     ]
    }
   ],
   "source": [
    "player_list=[('Messi', 10), ('Xavi', 6), ('ter Stegen', 1), ('Busquets', 5), ('Pique', 3), ('Suárez', 9)]\n",
    "\n",
    "for p in player_list:\n",
    "    pstr=\"球员：%-10s，号码：%-2d\" % (p[0],p[1])\n",
    "    print(pstr)"
   ]
  },
  {
   "cell_type": "code",
   "execution_count": 8,
   "metadata": {},
   "outputs": [
    {
     "name": "stdout",
     "output_type": "stream",
     "text": [
      "球员：     Messi，号码：10\n",
      "球员：      Xavi，号码：06\n",
      "球员：ter Stegen，号码：01\n",
      "球员：  Busquets，号码：05\n",
      "球员：     Pique，号码：03\n",
      "球员：    Suárez，号码：09\n"
     ]
    }
   ],
   "source": [
    "player_list=[('Messi', 10), ('Xavi', 6), ('ter Stegen', 1), ('Busquets', 5), ('Pique', 3), ('Suárez', 9)]\n",
    "\n",
    "for p in player_list:\n",
    "    pstr=\"球员：% 10s，号码：%02d\" % (p[0],p[1])\n",
    "    print(pstr)"
   ]
  },
  {
   "cell_type": "code",
   "execution_count": 9,
   "metadata": {},
   "outputs": [
    {
     "name": "stdout",
     "output_type": "stream",
     "text": [
      "球员：     Messi，号码： 10\n",
      "球员：      Xavi，号码： 6\n",
      "球员：ter Stegen，号码： 1\n",
      "球员：  Busquets，号码： 5\n",
      "球员：     Pique，号码： 3\n",
      "球员：    Suárez，号码： 9\n"
     ]
    }
   ],
   "source": [
    "player_list=[('Messi', 10), ('Xavi', 6), ('ter Stegen', 1), ('Busquets', 5), ('Pique', 3), ('Suárez', 9)]\n",
    "\n",
    "for p in player_list:\n",
    "    pstr=\"球员：%10s，号码：% 2d\" % (p[0],p[1])\n",
    "    print(pstr)"
   ]
  },
  {
   "cell_type": "markdown",
   "metadata": {},
   "source": [
    "## 字符串方法\n",
    "\n",
    "字符串也是一个对象，因而也有自己的方法。在Python中，字符串对象已经内置了足够多的方法供我们使用，非常方便。\n",
    "\n",
    "### 转换大小写\n",
    "\n",
    "可以使用str.upper()和str.lower()两个方法转换大小写。该方法最常用的场景是不知道用户的输入是大写还是小写，但是又要比较字符串的时候，比如："
   ]
  },
  {
   "cell_type": "code",
   "execution_count": 10,
   "metadata": {},
   "outputs": [
    {
     "name": "stdout",
     "output_type": "stream",
     "text": [
      "False\n",
      "aragorn\n",
      "True\n",
      "ARAGORN\n",
      "True\n"
     ]
    }
   ],
   "source": [
    "a=\"aragorn\"\n",
    "b=\"ARGORN\"\n",
    "c=\"Aragorn\"\n",
    "\n",
    "print(a==b)\n",
    "print(c.lower())\n",
    "print(a.lower()==c.lower())\n",
    "print(c.upper())\n",
    "print(a.upper()==c.upper())"
   ]
  },
  {
   "cell_type": "markdown",
   "metadata": {},
   "source": [
    "### 字符串查找和替换\n",
    "\n",
    "可以使用str.find()方法查找字符串中有没有某一个子字符串，比如："
   ]
  },
  {
   "cell_type": "code",
   "execution_count": 11,
   "metadata": {},
   "outputs": [
    {
     "name": "stdout",
     "output_type": "stream",
     "text": [
      "24\n",
      "search!\n"
     ]
    }
   ],
   "source": [
    "str1=\"Keep calm and do your research!\"\n",
    "loc=str1.find('search')\n",
    "print(loc)\n",
    "print(str1[loc:])"
   ]
  },
  {
   "cell_type": "markdown",
   "metadata": {},
   "source": [
    "值得注意的是，find()方法只返回找到的第一个满足要求的字符串，比如："
   ]
  },
  {
   "cell_type": "code",
   "execution_count": 12,
   "metadata": {},
   "outputs": [
    {
     "name": "stdout",
     "output_type": "stream",
     "text": [
      "24\n",
      "search! Research ...\n"
     ]
    }
   ],
   "source": [
    "str1=\"Keep calm and do your research! Research ...\"\n",
    "loc=str1.find('search')\n",
    "print(loc)\n",
    "print(str1[loc:])"
   ]
  },
  {
   "cell_type": "markdown",
   "metadata": {},
   "source": [
    "如果需要替换字符串，可以使用str.replace(s1,s2)方法进行替换，该方法将str中的所有s1替换为s2，并返回替换后的字符串，比如："
   ]
  },
  {
   "cell_type": "code",
   "execution_count": 13,
   "metadata": {},
   "outputs": [
    {
     "name": "stdout",
     "output_type": "stream",
     "text": [
      "Keep calm and do your research! Research ...\n",
      "Keep calm and do your resampling! Resampling ...\n"
     ]
    }
   ],
   "source": [
    "str1=\"Keep calm and do your research! Research ...\"\n",
    "str2=str1.replace('search', 'sampling')\n",
    "print(str1)\n",
    "print(str2)"
   ]
  },
  {
   "cell_type": "markdown",
   "metadata": {},
   "source": [
    "注意replace()方法将所有符合条件的字符串都进行了替换。"
   ]
  },
  {
   "cell_type": "markdown",
   "metadata": {},
   "source": [
    "### 拼接和分割字符串\n",
    "\n",
    "有时我们需要对字符串进行分割，此时可以使用str.split(s1)方法，该方法将字符串str按照s1进行分割，并返回一个列表。比如对于以下字符串，我们希望将其按照逗号分割，则可以使用："
   ]
  },
  {
   "cell_type": "code",
   "execution_count": 14,
   "metadata": {},
   "outputs": [
    {
     "name": "stdout",
     "output_type": "stream",
     "text": [
      "['Messi', ' 10', ' striker', ' Argentina']\n"
     ]
    }
   ],
   "source": [
    "str1=\"Messi, 10, striker, Argentina\"\n",
    "strlist=str1.split(',')\n",
    "print(strlist)"
   ]
  },
  {
   "cell_type": "markdown",
   "metadata": {},
   "source": [
    "如果需要拼接字符串，可以使用str.join(list)方法，该方法将list中的字符串使用str进行拼接，比如上面的例子，我们希望使用#号重新拼接的话，可以使用："
   ]
  },
  {
   "cell_type": "code",
   "execution_count": 15,
   "metadata": {},
   "outputs": [
    {
     "name": "stdout",
     "output_type": "stream",
     "text": [
      "Messi# 10# striker# Argentina\n"
     ]
    }
   ],
   "source": [
    "str2='#'.join(strlist)\n",
    "print(str2)"
   ]
  },
  {
   "cell_type": "markdown",
   "metadata": {},
   "source": [
    "### 去除左右的空白\n",
    "\n",
    "有时为了比较，需要将字符串左边、右边或者两边的空白删掉，此时可以使用str.strip()、str.lstrip()、str.rstrip()命令，分别进行两边、左侧、右侧的空白的删减。比如在上面的例子中："
   ]
  },
  {
   "cell_type": "code",
   "execution_count": 16,
   "metadata": {},
   "outputs": [
    {
     "name": "stdout",
     "output_type": "stream",
     "text": [
      "Messi#10#striker#Argentina\n"
     ]
    }
   ],
   "source": [
    "str1=\"Messi, 10, striker, Argentina\"\n",
    "strlist=str1.split(',')\n",
    "strlist=[s.strip() for s in strlist]\n",
    "print('#'.join(strlist))"
   ]
  },
  {
   "cell_type": "markdown",
   "metadata": {},
   "source": [
    "### 判断字符串是否满足特定格式\n",
    "\n",
    "此外，字符串还自带一些判断函数，比如：\n",
    "\n",
    "* isdigit()：是否字符串只由数字构成\n",
    "* isnumeric()：是否全是数字（包括汉字数字）\n",
    "* isupper()、islower()：是否全大写、全小写\n",
    "\n",
    "比如："
   ]
  },
  {
   "cell_type": "code",
   "execution_count": 17,
   "metadata": {},
   "outputs": [
    {
     "name": "stdout",
     "output_type": "stream",
     "text": [
      "True True\n",
      "False False\n",
      "False True\n"
     ]
    }
   ],
   "source": [
    "a='123'\n",
    "b='123#'\n",
    "c='四十四'\n",
    "\n",
    "print(a.isdigit(),a.isnumeric())\n",
    "print(b.isdigit(),b.isnumeric())\n",
    "print(c.isdigit(),c.isnumeric())"
   ]
  },
  {
   "cell_type": "markdown",
   "metadata": {},
   "source": [
    "## 一个示例：词频统计\n",
    "\n",
    "作为示例，我们在这里展示一下使用字典和字符串函数统计词频的方法："
   ]
  },
  {
   "cell_type": "code",
   "execution_count": 23,
   "metadata": {},
   "outputs": [
    {
     "name": "stdout",
     "output_type": "stream",
     "text": [
      "     the : 23\n",
      "     and : 19\n",
      "      of : 16\n",
      "      to : 13\n",
      "      in : 13\n",
      "      is : 12\n",
      "    said : 11\n",
      "      we : 11\n",
      "   Tesla : 10\n",
      "     our : 10\n",
      "       \" : 10\n",
      "    Wood :  9\n",
      "       a :  9\n",
      "    that :  9\n",
      "    year :  9\n",
      "     she :  8\n",
      "      on :  7\n",
      "    this :  7\n",
      "     000 :  6\n",
      "     has :  6\n",
      "      as :  6\n"
     ]
    }
   ],
   "source": [
    "text=\"\"\"\n",
    "Ark Invest chief Catherine Wood is holding firm on her thesis on Tesla — which she believes could run to $4,000 a share or higher — telling CNBC's \"ETF Edge\" on Monday that her conviction in the company has actually increased since last year.\n",
    "\n",
    "\"It is our largest position ... and our conviction has increased in the last year or so,\" said Wood, who is founder, CEO and chief investment officer at Ark. \"It's down about 29% this year. And it's always been our largest position this year, and yet our fund is up 28%.\"\n",
    "\n",
    "The way Ark achieves that is through its unique model, Wood said. The company centers on innovation as a growth driver, offering a number of exchange-traded funds focused on cutting-edge areas of the market like artificial intelligence, the future of finance and genomics.\n",
    "\n",
    "Most of Ark's actively managed ETFs are outperforming the broader market this year, and therein lies the strategy for how Ark — whose top holding is, indeed, the periodically downtrodden stock of Tesla — makes its money.\n",
    "\n",
    "\"Last year, when genomics was under assault because of reimbursement concerns and pricing concerns and so forth, we were leaning into those [stocks] heavily,\" which helped offset Tesla's 2018 declines, Wood explained.\n",
    "\n",
    "\"Our second-largest position, Invitae NVTA  -- which we think is one of the most important molecular diagnostic companies out there riding down the cost curve of DNA sequencing -- [is] up 125%,\" she said. \"It got as low as $5 last year. Today it's $18. So leaning into that has really paid off.\"\n",
    "\n",
    "That rang true for the rest of Ark's investments in the genomics space last year, and this year, \"we're doing the same ... with Tesla,\" the CEO said. \"But our conviction level there is so high that it never left our top position.\"\n",
    "\n",
    "Ark's conviction in Tesla has held strong through a myriad of issues — including concerns around profitability, cash flow and execution — both because Wood believes the company is grossly undervalued by Wall Street, and because of Ark's nimble investing method.\n",
    "\n",
    "\"Disruptive innovation is characterized by controversy and volatility, and so we know we are going to get opportunities to buy stocks. We lie in wait for those opportunities,\" Wood said. \"Many people think, because of what we do – disruptive innovation – that we're momentum driven. Absolutely not. We lie in wait. So take Tesla alone. [...] If you take away the performance of the stock ... and just look at what we delivered in alpha because of our trading around controversy, we delivered 175 basis points just from Tesla. And we get opportunities like that throughout the portfolio.\"\n",
    "\n",
    "Tesla's plan to raise $2.7 billion worth of capital didn't phase Wood either, she said Friday in a phone call with CNBC.\n",
    "\n",
    "\"Our bear case has it going to $700 and our bull case is $4,000, but now we think that's too low,\" she said, explaining that Ark's five-year time horizons for each case already assumed capital raises would occur.\n",
    "\n",
    "\"We understand what they're doing,\" Wood continued. \"In our bear case, even if they just were an electric vehicle manufacturer and nothing else, we expected them to raise $10 billion in capital, and in our bull case, which means they're going to need funding to roll out this autonomous strategy, we thought they were going to raise $20 billion.\"\n",
    "\n",
    "That $4,000 target also bakes in what Tesla CEO Elon Musk predicted on an investor call Thursday: that Tesla's self-driving segment would help drive the business to $500 billion.\n",
    "\n",
    "\"That $4,000,000 forecast is higher than $500 billion in the next five years,\" she said.\n",
    "\n",
    "And if Tesla does indeed rally a whopping 1,500% to the $4,000 level, it'll be because analysts finally value the company properly, the CEO argued.\n",
    "\n",
    "\"The analysts following this stock don't know how to analyze it,\" she said, adding that rather than seeing Tesla as exclusively an auto stock or a tech stock, she and her firm see it as a tech-auto-battery-utility hybrid. \"I don't think research departments out there are set up to analyze this stock.\"\n",
    "\n",
    "\"It's something for everyone, and no one can pull it all together,\" she said.\n",
    "\n",
    "Ark, for one, has four analysts in the areas of robotics, energy storage, artificial intelligence and transportation as a service collaborating on covering Tesla, Wood said.\n",
    "\"\"\"\n",
    "## 排序\n",
    "text_list=text.replace('\\r','').replace('\\n','').replace('—','')/.replace('.',' ').replace(',',' ').split(' ')\n",
    "text_list=[t for t in text_list if t.strip()!='']\n",
    "text_dict=dict()\n",
    "for l in text_list:\n",
    "    if l not in text_dict:\n",
    "        text_dict[l]=1\n",
    "    else:\n",
    "        text_dict[l]+=1\n",
    "text_freq=[]\n",
    "for k in text_dict:\n",
    "    text_freq.append((k,text_dict[k]))\n",
    "text_freq.sort(key=lambda x: x[1],reverse=True)\n",
    "max_print=20\n",
    "times=0\n",
    "for t in text_freq:\n",
    "    print(\"%8s : %2d\" % t)\n",
    "    times+=1\n",
    "    if times>max_print:\n",
    "        break"
   ]
  },
  {
   "cell_type": "markdown",
   "metadata": {},
   "source": [
    "# 文件"
   ]
  }
 ],
 "metadata": {
  "kernelspec": {
   "display_name": "Python 3",
   "language": "python",
   "name": "python3"
  },
  "language_info": {
   "codemirror_mode": {
    "name": "ipython",
    "version": 3
   },
   "file_extension": ".py",
   "mimetype": "text/x-python",
   "name": "python",
   "nbconvert_exporter": "python",
   "pygments_lexer": "ipython3",
   "version": "3.7.3"
  }
 },
 "nbformat": 4,
 "nbformat_minor": 2
}
